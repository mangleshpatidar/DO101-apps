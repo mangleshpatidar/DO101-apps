{
  "cells": [
    {
      "cell_type": "markdown",
      "metadata": {
        "id": "view-in-github",
        "colab_type": "text"
      },
      "source": [
        "<a href=\"https://colab.research.google.com/github/mangleshpatidar/DO101-apps/blob/master/SMAI_Ass1_Q3.ipynb\" target=\"_parent\"><img src=\"https://colab.research.google.com/assets/colab-badge.svg\" alt=\"Open In Colab\"/></a>"
      ]
    },
    {
      "cell_type": "markdown",
      "metadata": {
        "id": "NBjekUKKzDg3"
      },
      "source": [
        "# Assignment 1\n",
        "\n",
        "## Question 3 (Linear Regression)\n",
        "\n",
        "This assignment will have you working and experimenting with linear regression. The general multiple linear regression model, given $p$ predictors, is defined as: $$Y=\\beta_0+\\beta_1X_1+\\beta_2X_2+...+\\beta_pX_p+\\epsilon,$$ where $Y$ is the response variable, $X_j$ is the $j$<sup>th</sup> predictor and $\\beta_j$ quantifies the association between the response and the variable. A good way to think about $\\beta_j$ is as the average effect on $Y$ of a one unit increase in $X_j$, holding all other predictors fixed. The $\\epsilon$ term is the error term, which is independent of $X$ and has mean zero (the expected value of $Y$ when all variables are set to zero).\n",
        "\n",
        "Work with Numpy only and do not use library functions that directly perform model fitting like `np.polyfit`. However, you may use library functions to compare your results while experimenting. This assignment becomes much easier to complete if accompanied by reading the third chapter in An Introduction to Statistical Learning. The text is freely available for download on the internet at [statlearning.com](statlearning.com)\n",
        "\n",
        "Reference: James, G., Witten, D., Hastie, T., Tibshirani, R., Taylor, J. (2023). Linear Regression. In: An Introduction to Statistical Learning. Springer Texts in Statistics. Springer, Cham. https://doi.org/10.1007/978-3-031-38747-0_3"
      ]
    },
    {
      "cell_type": "markdown",
      "metadata": {
        "id": "5j_YEOpDzJDk"
      },
      "source": [
        "### Imports"
      ]
    },
    {
      "cell_type": "code",
      "execution_count": 154,
      "metadata": {
        "id": "zjmte2ZLzH4Q"
      },
      "outputs": [],
      "source": [
        "import numpy as np\n",
        "import matplotlib.pyplot as plt\n",
        "import pandas as pd\n",
        "from sklearn.model_selection import train_test_split\n",
        "from tabulate import tabulate\n"
      ]
    },
    {
      "cell_type": "markdown",
      "metadata": {
        "id": "AjVF377ozMjX"
      },
      "source": [
        "### Part 1: Simple Regression\n",
        "\n",
        "In this part, the function `gen_data()` samples hundred data points from a random 25 degree single-variable polynomial. This data is stored in the `predictor` and `response` variables. Your task is to experiment with linear regression on this dataset. Specifically:\n",
        "\n",
        "1. Fit a line to the curve $(y=\\beta_1x+\\beta_0)$\n",
        "2. Fit a polynomial to the curve $(y=\\sum_{0}^{k}\\beta_kx^k)$ and choose $k$ that satisfactorily minimizes error.\n",
        "    - Note that the original polynomial is a 25 degree polynomial and we might not need exactly that many.\n",
        "    - Check how well the coefficients match when we try to fit a 25 degree polynomial to the data. Get the coefficients from the `gen_data()` function.\n",
        "\n",
        "Report error metrics for all experiments in tabular form (or any other way that helps us compare and choose between the different methods)\n",
        "\n"
      ]
    },
    {
      "cell_type": "markdown",
      "metadata": {
        "id": "b4AAtVchuTFR"
      },
      "source": [
        "#### Part 1.1 Regularization\n",
        "\n",
        "In this section, you will be required to perform the converse of the previous section. After generating data from a lower degree polynomial, you will try to fit a higher degree polynomial to it. This will result in overfitting. You will then use regularization to reduce the overfitting. Try both L1 and L2 regularization and compare the results."
      ]
    },
    {
      "cell_type": "code",
      "execution_count": 78,
      "metadata": {
        "id": "9MjixImKzL9Y",
        "colab": {
          "base_uri": "https://localhost:8080/",
          "height": 472
        },
        "outputId": "85caa663-f56c-4dd4-f0b3-6112022d703c"
      },
      "outputs": [
        {
          "output_type": "display_data",
          "data": {
            "text/plain": [
              "<Figure size 640x480 with 1 Axes>"
            ],
            "image/png": "[encoded data removed]"
          },
          "metadata": {}
        }
      ],
      "source": [
        "def gen_data():\n",
        "    coeff = np.random.rand(26)\n",
        "    x = np.linspace(-1.1, 0.9, 100)\n",
        "    y = np.zeros_like(x)\n",
        "    for i, c in enumerate(coeff):\n",
        "        y += c * x**i\n",
        "    y += np.random.randn(100) * 0.1\n",
        "    return x, y\n",
        "\n",
        "predictor, response = gen_data()\n",
        "\n",
        "plt.plot(predictor, response, 'r+')\n",
        "plt.xlabel('Predictor')\n",
        "plt.ylabel('Response')\n",
        "plt.title('Sampled Data Points')\n",
        "plt.show()"
      ]
    },
    {
      "cell_type": "code",
      "source": [
        "predictor.shape\n"
      ],
      "metadata": {
        "colab": {
          "base_uri": "https://localhost:8080/"
        },
        "id": "NjZJEfofG7bN",
        "outputId": "f7b689d3-ead9-4442-8807-55cfe9123184"
      },
      "execution_count": 79,
      "outputs": [
        {
          "output_type": "execute_result",
          "data": {
            "text/plain": [
              "(100,)"
            ]
          },
          "metadata": {},
          "execution_count": 79
        }
      ]
    },
    {
      "cell_type": "code",
      "source": [
        "response.shape"
      ],
      "metadata": {
        "colab": {
          "base_uri": "https://localhost:8080/"
        },
        "id": "Co7nUXWkj0s_",
        "outputId": "53320e15-e713-48c0-9fef-dfe0554a2624"
      },
      "execution_count": 80,
      "outputs": [
        {
          "output_type": "execute_result",
          "data": {
            "text/plain": [
              "(100,)"
            ]
          },
          "metadata": {},
          "execution_count": 80
        }
      ]
    },
    {
      "cell_type": "code",
      "source": [
        "def linear_regression_fit(x, y, learning_rate=0.01, epochs=1000):\n",
        "    beta0 = 0\n",
        "    beta1 = 0\n",
        "    m = len(x)\n",
        "    for epoch in range(epochs):\n",
        "        y_pred = beta0 + beta1 * x\n",
        "        grad0 = (1/m) * np.sum(y_pred - y)\n",
        "        grad1 = (1/m) * np.sum((y_pred - y) * x)\n",
        "        beta0 = beta0 - learning_rate * grad0\n",
        "        beta1 = beta1 - learning_rate * grad1\n",
        "\n",
        "    return beta0, beta1\n",
        "\n",
        "def predict(x, beta0, beta1):\n",
        "    return beta0 + beta1 * x\n",
        "\n",
        "beta0, beta1 = linear_regression_fit(predictor, response)\n",
        "y_pred = predict(predictor, beta0, beta1)\n",
        "\n",
        "\n"
      ],
      "metadata": {
        "id": "Y2ShKmt5J8po"
      },
      "execution_count": 86,
      "outputs": []
    },
    {
      "cell_type": "code",
      "source": [
        "print(y_pred)"
      ],
      "metadata": {
        "colab": {
          "base_uri": "https://localhost:8080/"
        },
        "id": "_Z7jRgTfKfi7",
        "outputId": "dc08d245-f746-44c3-82cc-691746d50ed3"
      },
      "execution_count": 88,
      "outputs": [
        {
          "output_type": "stream",
          "name": "stdout",
          "text": [
            "[0.06642804 0.08322089 0.10001373 0.11680658 0.13359943 0.15039227\n",
            " 0.16718512 0.18397797 0.20077081 0.21756366 0.2343565  0.25114935\n",
            " 0.2679422  0.28473504 0.30152789 0.31832074 0.33511358 0.35190643\n",
            " 0.36869928 0.38549212 0.40228497 0.41907781 0.43587066 0.45266351\n",
            " 0.46945635 0.4862492  0.50304205 0.51983489 0.53662774 0.55342058\n",
            " 0.57021343 0.58700628 0.60379912 0.62059197 0.63738482 0.65417766\n",
            " 0.67097051 0.68776336 0.7045562  0.72134905 0.73814189 0.75493474\n",
            " 0.77172759 0.78852043 0.80531328 0.82210613 0.83889897 0.85569182\n",
            " 0.87248466 0.88927751 0.90607036 0.9228632  0.93965605 0.9564489\n",
            " 0.97324174 0.99003459 1.00682744 1.02362028 1.04041313 1.05720597\n",
            " 1.07399882 1.09079167 1.10758451 1.12437736 1.14117021 1.15796305\n",
            " 1.1747559  1.19154874 1.20834159 1.22513444 1.24192728 1.25872013\n",
            " 1.27551298 1.29230582 1.30909867 1.32589152 1.34268436 1.35947721\n",
            " 1.37627005 1.3930629  1.40985575 1.42664859 1.44344144 1.46023429\n",
            " 1.47702713 1.49381998 1.51061282 1.52740567 1.54419852 1.56099136\n",
            " 1.57778421 1.59457706 1.6113699  1.62816275 1.64495559 1.66174844\n",
            " 1.67854129 1.69533413 1.71212698 1.72891983]\n"
          ]
        }
      ]
    },
    {
      "cell_type": "code",
      "source": [
        "plt.plot(predictor, response, 'r+', label='Actual Data')\n",
        "plt.plot(predictor, y_pred, 'b-', label='Linear Regression Fit')\n",
        "plt.xlabel('Predictor')\n",
        "plt.ylabel('Response')\n",
        "plt.title('Linear Regression Fit to Sampled Data')\n",
        "plt.legend()\n",
        "plt.show()"
      ],
      "metadata": {
        "colab": {
          "base_uri": "https://localhost:8080/",
          "height": 472
        },
        "id": "vcHHkgMxJ8z0",
        "outputId": "cba4924c-3883-4872-ce7c-e6d39282e49a"
      },
      "execution_count": 87,
      "outputs": [
        {
          "output_type": "display_data",
          "data": {
            "text/plain": [
              "<Figure size 640x480 with 1 Axes>"
            ],
            "image/png": "[encoded data removed]"
          },
          "metadata": {}
        }
      ]
    },
    {
      "cell_type": "code",
      "source": [
        "def polynomial_regression_fit(x, y, degree, learning_rate=0.01, epochs=1000):\n",
        "    betas = np.zeros(degree + 1)\n",
        "    m = len(x)\n",
        "    for epoch in range(epochs):\n",
        "        y_pred = np.dot(np.vander(x, degree + 1), betas)\n",
        "        grads = (1/m) * np.dot(np.vander(x, degree + 1).T, (y_pred - y))\n",
        "        betas = betas - learning_rate * grads\n",
        "\n",
        "    return betas\n",
        "\n",
        "def predict_polynomial(x, betas):\n",
        "    degree = len(betas) - 1\n",
        "    return np.dot(np.vander(x, degree + 1), betas)\n",
        "\n"
      ],
      "metadata": {
        "id": "dCSPnxUwJ8xo"
      },
      "execution_count": 119,
      "outputs": []
    },
    {
      "cell_type": "code",
      "source": [
        "def ridge_regression_fit(x, y, degree, alpha=0.01, learning_rate=0.01, epochs=1000):\n",
        "    betas = np.zeros(degree + 1)\n",
        "    m = len(x)\n",
        "    for epoch in range(epochs):\n",
        "        y_pred = np.dot(np.vander(x, degree + 1), betas)\n",
        "        ridge_term = alpha * np.sum(betas[1:]**2)\n",
        "        grads = (1/m) * np.dot(np.vander(x, degree + 1).T, (y_pred - y)) + 2 * ridge_term * betas\n",
        "        betas = betas - learning_rate * grads\n",
        "\n",
        "    return betas\n",
        "\n",
        "def lasso_regression_fit(x, y, degree, alpha=0.01, learning_rate=0.01, epochs=1000):\n",
        "    betas = np.zeros(degree + 1)\n",
        "    m = len(x)\n",
        "    for epoch in range(epochs):\n",
        "        y_pred = np.dot(np.vander(x, degree + 1), betas)\n",
        "        lasso_term = alpha * np.sign(betas)\n",
        "        grads = (1/m) * np.dot(np.vander(x, degree + 1).T, (y_pred - y)) + lasso_term\n",
        "        betas = betas - learning_rate * grads\n",
        "\n",
        "    return betas\n"
      ],
      "metadata": {
        "id": "NMuhnIk0Uy6G"
      },
      "execution_count": 125,
      "outputs": []
    },
    {
      "cell_type": "code",
      "source": [
        "def find_best_degree(x, y, max_degree, learning_rate=0.01, epochs=1000):\n",
        "    best_degree = 0\n",
        "    best_error = float('inf')\n",
        "\n",
        "    for degree in range(1, max_degree +1):\n",
        "        betas = polynomial_regression_fit(x, y, degree, learning_rate, epochs)\n",
        "        y_pred = predict_polynomial(x, betas)\n",
        "\n",
        "        error = np.mean((y - y_pred) ** 2)\n",
        "\n",
        "        if error < best_error:\n",
        "            best_error = error\n",
        "            best_degree = degree\n",
        "\n",
        "    return best_degree\n",
        "\n",
        "beta0_linear, beta1_linear = linear_regression_fit(predictor, response)\n",
        "y_pred_linear = predict(predictor, beta0_linear, beta1_linear)\n",
        "\n",
        "max_degree = 22\n",
        "best_degree = find_best_degree(predictor, response, max_degree)\n",
        "\n",
        "betas_poly = polynomial_regression_fit(predictor, response, best_degree)\n",
        "y_pred_poly = predict_polynomial(predictor, betas_poly)\n",
        "\n",
        "\n"
      ],
      "metadata": {
        "id": "qwwbTwzIJ82W"
      },
      "execution_count": 122,
      "outputs": []
    },
    {
      "cell_type": "code",
      "source": [
        "plt.plot(predictor, response, 'r+', label='Actual Data')\n",
        "plt.plot(predictor, y_pred_linear, 'b-', label='Linear Regression Fit')\n",
        "plt.plot(predictor, y_pred_poly, 'g-', label=f'Polynomial Regression Fit (Degree {best_degree})')\n",
        "plt.xlabel('Predictor')\n",
        "plt.ylabel('Response')\n",
        "plt.title('Regression Fits to Sampled Data')\n",
        "plt.legend()\n",
        "plt.show()\n",
        "\n"
      ],
      "metadata": {
        "colab": {
          "base_uri": "https://localhost:8080/",
          "height": 472
        },
        "id": "KJe4aMzmJ84N",
        "outputId": "b22f24bb-e60e-41c1-918f-8e1cb8749cee"
      },
      "execution_count": 123,
      "outputs": [
        {
          "output_type": "display_data",
          "data": {
            "text/plain": [
              "<Figure size 640x480 with 1 Axes>"
            ],
            "image/png": "[encoded data removed]"
          },
          "metadata": {}
        }
      ]
    },
    {
      "cell_type": "code",
      "source": [
        "error_linear = np.mean((response - y_pred_linear) ** 2)\n",
        "error_poly = np.mean((response - y_pred_poly) ** 2)\n",
        "\n",
        "table = [[\"Linear Regression :\", error_linear],\n",
        "         [f\"Polynomial Regression (Best Degree {best_degree}):\", error_poly]]\n",
        "\n",
        "headers = [\"Experiment\", \"Mean Squared Error\"]\n",
        "print(tabulate(table, headers, tablefmt=\"grid\"))"
      ],
      "metadata": {
        "colab": {
          "base_uri": "https://localhost:8080/"
        },
        "id": "XsHCZ8OPJ86Z",
        "outputId": "c483a821-0cf7-4654-c47f-eb5c7a736b50"
      },
      "execution_count": 96,
      "outputs": [
        {
          "output_type": "stream",
          "name": "stdout",
          "text": [
            "+-----------------------------------------+----------------------+\n",
            "| Experiment                              |   Mean Squared Error |\n",
            "+=========================================+======================+\n",
            "| Linear Regression :                     |            0.389796  |\n",
            "+-----------------------------------------+----------------------+\n",
            "| Polynomial Regression (Best Degree 25): |            0.0355352 |\n",
            "+-----------------------------------------+----------------------+\n"
          ]
        }
      ]
    },
    {
      "cell_type": "code",
      "source": [
        "alpha = 0.01\n",
        "\n",
        "degree_high = 21\n",
        "betas_poly = polynomial_regression_fit(predictor, response, degree_high)\n",
        "y_pred_high = predict_polynomial(predictor, betas_poly)\n",
        "\n",
        "degree = 21\n",
        "learning_rate = 0.01\n",
        "epochs = 1000\n",
        "\n",
        "ridge_betas = ridge_regression_fit(predictor, response, degree, alpha, learning_rate, epochs)\n",
        "\n",
        "lasso_betas = lasso_regression_fit(predictor, response, degree, alpha, learning_rate, epochs)\n",
        "\n",
        "y_pred_ridge = predict_polynomial(predictor, ridge_betas)\n",
        "y_pred_lasso = predict_polynomial(predictor, lasso_betas)\n",
        "\n"
      ],
      "metadata": {
        "id": "kL378s1MPHyT"
      },
      "execution_count": 144,
      "outputs": []
    },
    {
      "cell_type": "code",
      "source": [
        "print(\"Ridge Regression Coefficients:\", ridge_betas)\n",
        "print(\"Lasso Regression Coefficients:\", lasso_betas)\n",
        "print(\"Predictions (Ridge):\", y_pred_ridge)\n",
        "print(\"Predictions (Lasso):\", y_pred_lasso)\n",
        "\n"
      ],
      "metadata": {
        "colab": {
          "base_uri": "https://localhost:8080/"
        },
        "id": "ya0qaaPyV6Q_",
        "outputId": "f5aafe7f-ac4e-4f63-d54e-03c05c00a3b3"
      },
      "execution_count": 145,
      "outputs": [
        {
          "output_type": "stream",
          "name": "stdout",
          "text": [
            "Ridge Regression Coefficients: [ 0.21223284 -0.10005459  0.14776777 -0.0211526   0.10040546  0.0490845\n",
            "  0.06876283  0.1143824   0.05252075  0.17855736  0.0527048   0.24580027\n",
            "  0.07227404  0.32099972  0.11735272  0.40996969  0.20007134  0.51873154\n",
            "  0.34677143  0.64579177  0.63615603  0.60364299]\n",
            "Lasso Regression Coefficients: [ 2.24794200e-01 -7.89525663e-02  1.36170178e-01 -5.50772758e-05\n",
            "  7.04250781e-02 -4.94859338e-05  2.54467599e-02  1.03282946e-02\n",
            "  6.84452824e-04  9.58358864e-02  9.01295871e-05  1.84684594e-01\n",
            "  1.80371395e-02  2.83139114e-01  7.16171307e-02  3.98558226e-01\n",
            "  1.72653892e-01  5.38245811e-01  3.52775897e-01  6.98046002e-01\n",
            "  7.04725191e-01  6.14832997e-01]\n",
            "Predictions (Ridge): [-0.85736123 -0.07776595  0.41710498  0.71610201  0.88253685  0.96110073\n",
            "  0.98300423  0.96977286  0.93603235  0.8915386   0.84264653  0.79336454\n",
            "  0.74610508  0.7022138   0.66233878  0.62668499  0.59518717  0.56762546\n",
            "  0.54370093  0.52308378  0.50544282  0.49046257  0.47785227  0.46734972\n",
            "  0.45872198  0.4517642   0.44629756  0.44216669  0.43923706  0.43739243\n",
            "  0.4365325   0.43657084  0.43743302  0.439055    0.44138179  0.4443662\n",
            "  0.44796788  0.45215246  0.45689082  0.46215845  0.46793499  0.47420373\n",
            "  0.4809513   0.48816729  0.49584408  0.50397655  0.51256195  0.52159976\n",
            "  0.53109154  0.54104088  0.55145335  0.56233644  0.57369952  0.58555391\n",
            "  0.59791287  0.6107916   0.62420738  0.63817961  0.65272991  0.66788224\n",
            "  0.68366307  0.70010156  0.71722973  0.73508269  0.75369895  0.77312069\n",
            "  0.79339413  0.81456992  0.83670361  0.85985616  0.88409459  0.90949261\n",
            "  0.93613151  0.964101    0.99350038  1.02443974  1.05704143  1.09144183\n",
            "  1.12779332  1.16626675  1.20705425  1.25037266  1.29646767  1.34561877\n",
            "  1.39814534  1.45441407  1.5148482   1.57993894  1.65025991  1.72648531\n",
            "  1.80941321  1.89999543  1.9993763   2.10894321  2.23039295  2.36581939\n",
            "  2.51782976  2.68969939  2.88557856  3.11076925]\n",
            "Predictions (Lasso): [-0.81826064 -0.0546515   0.43153814  0.72636139  0.89122689  0.9695685\n",
            "  0.99179813  0.97896213  0.9454242   0.90082134  0.85147976  0.80143257\n",
            "  0.75314521  0.70802809  0.66679536  0.62971324  0.59676977  0.56778906\n",
            "  0.5425069   0.52061954  0.50181424  0.48578761  0.47225575  0.46095927\n",
            "  0.4516649   0.44416524  0.43827731  0.43384056  0.4307147   0.42877746\n",
            "  0.4279225   0.42805748  0.42910236  0.4309878   0.43365388  0.43704894\n",
            "  0.44112853  0.44585458  0.45119465  0.45712131  0.46361155  0.4706464\n",
            "  0.47821045  0.4862916   0.49488073  0.50397147  0.51356002  0.52364501\n",
            "  0.53422734  0.54531008  0.55689844  0.56899969  0.58162311  0.59478003\n",
            "  0.60848383  0.62274995  0.63759595  0.65304159  0.66910894  0.68582244\n",
            "  0.70320906  0.72129849  0.74012326  0.75971899  0.78012463  0.80138271\n",
            "  0.82353968  0.84664623  0.87075774  0.8959347   0.92224321  0.94975561\n",
            "  0.97855114  1.00871667  1.04034757  1.07354873  1.10843563  1.14513567\n",
            "  1.18378963  1.22455339  1.26759988  1.31312137  1.36133216  1.41247169\n",
            "  1.46680831  1.52464373  1.58631847  1.65221855  1.72278386  1.7985188\n",
            "  1.88000603  1.96792448  2.06307332  2.16640425  2.27906535  2.4024612\n",
            "  2.53833574  2.68888675  2.85692447  3.04609127]\n"
          ]
        }
      ]
    },
    {
      "cell_type": "code",
      "source": [
        "plt.plot(predictor, response, 'r+', label='Actual Data')\n",
        "plt.plot(predictor, y_pred_high, 'g-', label=f'Overfitted Polynomial Fit (Degree {degree_high})')\n",
        "plt.plot(predictor, y_pred_lasso, 'b-', label=f'L1 Regularization (Lasso)')\n",
        "plt.plot(predictor, y_pred_ridge, 'm-', label=f'L2 Regularization (Ridge)')\n",
        "plt.xlabel('Predictor')\n",
        "plt.ylabel('Response')\n",
        "plt.title('Overfitting and Regularization')\n",
        "plt.legend()\n",
        "plt.show()\n"
      ],
      "metadata": {
        "colab": {
          "base_uri": "https://localhost:8080/",
          "height": 472
        },
        "id": "r23IdEGFV_Pw",
        "outputId": "89601a68-8267-46b3-b685-ffbb24cc859e"
      },
      "execution_count": 146,
      "outputs": [
        {
          "output_type": "display_data",
          "data": {
            "text/plain": [
              "<Figure size 640x480 with 1 Axes>"
            ],
            "image/png": "[encoded data removed]"
          },
          "metadata": {}
        }
      ]
    },
    {
      "cell_type": "code",
      "source": [
        "mse = np.mean((response - y_pred_high) ** 2)\n",
        "rmse = np.sqrt(mse)\n",
        "r_squared = 1 - (np.sum((response - y_pred_high) ** 2) / np.sum((response - np.mean(response)) ** 2))\n",
        "\n",
        "print(\"Mean Squared Error (MSE):\", mse)\n",
        "print(\"Root Mean Squared Error (RMSE):\", rmse)\n",
        "print(\"R-squared (R^2) score:\", r_squared)"
      ],
      "metadata": {
        "colab": {
          "base_uri": "https://localhost:8080/"
        },
        "id": "iLF7eFQEWUGE",
        "outputId": "39639a4a-0ba2-4b57-edd9-d197efc0a9e3"
      },
      "execution_count": 148,
      "outputs": [
        {
          "output_type": "stream",
          "name": "stdout",
          "text": [
            "Mean Squared Error (MSE): 0.04235909879731335\n",
            "Root Mean Squared Error (RMSE): 0.20581326195683639\n",
            "R-squared (R^2) score: 0.9342577349951012\n"
          ]
        }
      ]
    },
    {
      "cell_type": "code",
      "source": [
        "mse1 = np.mean((response - y_pred_lasso) ** 2)\n",
        "rmse1 = np.sqrt(mse1)\n",
        "r_squared1 = 1 - (np.sum((response - y_pred_lasso) ** 2) / np.sum((response - np.mean(response)) ** 2))\n",
        "\n",
        "print(\"Mean Squared Error (MSE):\", mse1)\n",
        "print(\"Root Mean Squared Error (RMSE):\", rmse1)\n",
        "print(\"R-squared (R^2) score:\", r_squared1)"
      ],
      "metadata": {
        "colab": {
          "base_uri": "https://localhost:8080/"
        },
        "id": "yfXgN-P2Wuze",
        "outputId": "0401de38-5eae-4669-c44a-db4bfa11b8f4"
      },
      "execution_count": 149,
      "outputs": [
        {
          "output_type": "stream",
          "name": "stdout",
          "text": [
            "Mean Squared Error (MSE): 0.06504374704674767\n",
            "Root Mean Squared Error (RMSE): 0.2550367562661266\n",
            "R-squared (R^2) score: 0.8990506555458139\n"
          ]
        }
      ]
    },
    {
      "cell_type": "code",
      "source": [
        "mse2 = np.mean((response - y_pred_ridge) ** 2)\n",
        "rmse2 = np.sqrt(mse2)\n",
        "r_squared2 = 1 - (np.sum((response - y_pred_ridge) ** 2) / np.sum((response - np.mean(response)) ** 2))\n",
        "\n",
        "print(\"Mean Squared Error (MSE):\", mse2)\n",
        "print(\"Root Mean Squared Error (RMSE):\", rmse2)\n",
        "print(\"R-squared (R^2) score:\", r_squared2)"
      ],
      "metadata": {
        "colab": {
          "base_uri": "https://localhost:8080/"
        },
        "id": "o2FR2kAUWzvT",
        "outputId": "142be4a7-47bb-4928-881c-b9b7267d3298"
      },
      "execution_count": 150,
      "outputs": [
        {
          "output_type": "stream",
          "name": "stdout",
          "text": [
            "Mean Squared Error (MSE): 0.061198649711516014\n",
            "Root Mean Squared Error (RMSE): 0.24738360841316065\n",
            "R-squared (R^2) score: 0.9050183322707601\n"
          ]
        }
      ]
    },
    {
      "cell_type": "code",
      "source": [
        "error_metrics = [\n",
        "    [\"MLR     \", mse1, rmse1, r_squared1],\n",
        "    [\"MLR with Lasso\", mse, rmse, r_squared],\n",
        "    [\"MLR with Ridge\", mse2, rmse2, r_squared2]\n",
        "\n",
        "]\n",
        "headers = [\"Experiment\", \"Mean Squared Error\", \"Root Mean Squared Error\", \"R-squared (R^2) score\"]\n",
        "print(\"\\nError Metrics:\")\n",
        "print(tabulate(error_metrics, headers=headers))"
      ],
      "metadata": {
        "colab": {
          "base_uri": "https://localhost:8080/"
        },
        "id": "ssvJEq_VY0Yf",
        "outputId": "9ae0dbe4-e377-47c7-8b43-ed4e87fcec73"
      },
      "execution_count": 152,
      "outputs": [
        {
          "output_type": "stream",
          "name": "stdout",
          "text": [
            "\n",
            "Error Metrics:\n",
            "Experiment        Mean Squared Error    Root Mean Squared Error    R-squared (R^2) score\n",
            "--------------  --------------------  -------------------------  -----------------------\n",
            "MLR                        0.0650437                   0.255037                 0.899051\n",
            "MLR with Lasso             0.0423591                   0.205813                 0.934258\n",
            "MLR with Ridge             0.0611986                   0.247384                 0.905018\n"
          ]
        }
      ]
    },
    {
      "cell_type": "code",
      "source": [],
      "metadata": {
        "id": "BjqimH0sa2VA"
      },
      "execution_count": null,
      "outputs": []
    },
    {
      "cell_type": "markdown",
      "metadata": {
        "id": "jvlMEbh_b0pN"
      },
      "source": [
        "### Part 2: Credit Data\n",
        "\n",
        "In this part, we work with the credit.csv file that predicts `Balance` after looking at predictors like `Income`, `Age`, `Limit`, etc. Your task is to understand the relationship between the predictors and response using linear regression techniques. Specifically:\n",
        "\n",
        "1. Perform multiple linear regression on the dataset. $(Y=\\sum\\beta_iX_i+\\epsilon)$\n",
        "2. Test whether all the variables are needed to predict `Balance` or if any of them can be discarded.\n",
        "3. Test for [interaction effects](https://en.wikipedia.org/wiki/Interaction_(statistics)#In_regression) between `Rating` and `Age`.\n",
        "\n",
        "As before, perform the above experiments by obtaining and reporting error metrics for all experiments."
      ]
    },
    {
      "cell_type": "markdown",
      "source": [],
      "metadata": {
        "id": "SErt0DAlPykz"
      }
    },
    {
      "cell_type": "code",
      "execution_count": 45,
      "metadata": {
        "colab": {
          "base_uri": "https://localhost:8080/",
          "height": 206
        },
        "id": "14AuOLx02x-U",
        "outputId": "e12f2384-92b4-4d47-bc23-881d9b591e45"
      },
      "outputs": [
        {
          "output_type": "execute_result",
          "data": {
            "text/plain": [
              "    Income  Limit  Rating  Cards  Age  Education  Balance\n",
              "0   14.891   3606     283      2   34         11      333\n",
              "1  106.025   6645     483      3   82         15      903\n",
              "2  104.593   7075     514      4   71         11      580\n",
              "3  148.924   9504     681      3   36         11      964\n",
              "4   55.882   4897     357      2   68         16      331"
            ],
            "text/html": [
              "\n",
              "  <div id=\"df-6677f1a4-71ea-481c-b6a8-3d062c79c2af\" class=\"colab-df-container\">\n",
              "    <div>\n",
              "<style scoped>\n",
              "    .dataframe tbody tr th:only-of-type {\n",
              "        vertical-align: middle;\n",
              "    }\n",
              "\n",
              "    .dataframe tbody tr th {\n",
              "        vertical-align: top;\n",
              "    }\n",
              "\n",
              "    .dataframe thead th {\n",
              "        text-align: right;\n",
              "    }\n",
              "</style>\n",
              "<table border=\"1\" class=\"dataframe\">\n",
              "  <thead>\n",
              "    <tr style=\"text-align: right;\">\n",
              "      <th></th>\n",
              "      <th>Income</th>\n",
              "      <th>Limit</th>\n",
              "      <th>Rating</th>\n",
              "      <th>Cards</th>\n",
              "      <th>Age</th>\n",
              "      <th>Education</th>\n",
              "      <th>Balance</th>\n",
              "    </tr>\n",
              "  </thead>\n",
              "  <tbody>\n",
              "    <tr>\n",
              "      <th>0</th>\n",
              "      <td>14.891</td>\n",
              "      <td>3606</td>\n",
              "      <td>283</td>\n",
              "      <td>2</td>\n",
              "      <td>34</td>\n",
              "      <td>11</td>\n",
              "      <td>333</td>\n",
              "    </tr>\n",
              "    <tr>\n",
              "      <th>1</th>\n",
              "      <td>106.025</td>\n",
              "      <td>6645</td>\n",
              "      <td>483</td>\n",
              "      <td>3</td>\n",
              "      <td>82</td>\n",
              "      <td>15</td>\n",
              "      <td>903</td>\n",
              "    </tr>\n",
              "    <tr>\n",
              "      <th>2</th>\n",
              "      <td>104.593</td>\n",
              "      <td>7075</td>\n",
              "      <td>514</td>\n",
              "      <td>4</td>\n",
              "      <td>71</td>\n",
              "      <td>11</td>\n",
              "      <td>580</td>\n",
              "    </tr>\n",
              "    <tr>\n",
              "      <th>3</th>\n",
              "      <td>148.924</td>\n",
              "      <td>9504</td>\n",
              "      <td>681</td>\n",
              "      <td>3</td>\n",
              "      <td>36</td>\n",
              "      <td>11</td>\n",
              "      <td>964</td>\n",
              "    </tr>\n",
              "    <tr>\n",
              "      <th>4</th>\n",
              "      <td>55.882</td>\n",
              "      <td>4897</td>\n",
              "      <td>357</td>\n",
              "      <td>2</td>\n",
              "      <td>68</td>\n",
              "      <td>16</td>\n",
              "      <td>331</td>\n",
              "    </tr>\n",
              "  </tbody>\n",
              "</table>\n",
              "</div>\n",
              "    <div class=\"colab-df-buttons\">\n",
              "\n",
              "  <div class=\"colab-df-container\">\n",
              "    <button class=\"colab-df-convert\" onclick=\"convertToInteractive('df-6677f1a4-71ea-481c-b6a8-3d062c79c2af')\"\n",
              "            title=\"Convert this dataframe to an interactive table.\"\n",
              "            style=\"display:none;\">\n",
              "\n",
              "  <svg xmlns=\"http://www.w3.org/2000/svg\" height=\"24px\" viewBox=\"0 -960 960 960\">\n",
              "    <path d=\"M120-120v-720h720v720H120Zm60-500h600v-160H180v160Zm220 220h160v-160H400v160Zm0 220h160v-160H400v160ZM180-400h160v-160H180v160Zm440 0h160v-160H620v160ZM180-180h160v-160H180v160Zm440 0h160v-160H620v160Z\"/>\n",
              "  </svg>\n",
              "    </button>\n",
              "\n",
              "  <style>\n",
              "    .colab-df-container {\n",
              "      display:flex;\n",
              "      gap: 12px;\n",
              "    }\n",
              "\n",
              "    .colab-df-convert {\n",
              "      background-color: #E8F0FE;\n",
              "      border: none;\n",
              "      border-radius: 50%;\n",
              "      cursor: pointer;\n",
              "      display: none;\n",
              "      fill: #1967D2;\n",
              "      height: 32px;\n",
              "      padding: 0 0 0 0;\n",
              "      width: 32px;\n",
              "    }\n",
              "\n",
              "    .colab-df-convert:hover {\n",
              "      background-color: #E2EBFA;\n",
              "      box-shadow: 0px 1px 2px rgba(60, 64, 67, 0.3), 0px 1px 3px 1px rgba(60, 64, 67, 0.15);\n",
              "      fill: #174EA6;\n",
              "    }\n",
              "\n",
              "    .colab-df-buttons div {\n",
              "      margin-bottom: 4px;\n",
              "    }\n",
              "\n",
              "    [theme=dark] .colab-df-convert {\n",
              "      background-color: #3B4455;\n",
              "      fill: #D2E3FC;\n",
              "    }\n",
              "\n",
              "    [theme=dark] .colab-df-convert:hover {\n",
              "      background-color: #434B5C;\n",
              "      box-shadow: 0px 1px 3px 1px rgba(0, 0, 0, 0.15);\n",
              "      filter: drop-shadow(0px 1px 2px rgba(0, 0, 0, 0.3));\n",
              "      fill: #FFFFFF;\n",
              "    }\n",
              "  </style>\n",
              "\n",
              "    <script>\n",
              "      const buttonEl =\n",
              "        document.querySelector('#df-6677f1a4-71ea-481c-b6a8-3d062c79c2af button.colab-df-convert');\n",
              "      buttonEl.style.display =\n",
              "        google.colab.kernel.accessAllowed ? 'block' : 'none';\n",
              "\n",
              "      async function convertToInteractive(key) {\n",
              "        const element = document.querySelector('#df-6677f1a4-71ea-481c-b6a8-3d062c79c2af');\n",
              "        const dataTable =\n",
              "          await google.colab.kernel.invokeFunction('convertToInteractive',\n",
              "                                                    [key], {});\n",
              "        if (!dataTable) return;\n",
              "\n",
              "        const docLinkHtml = 'Like what you see? Visit the ' +\n",
              "          '<a target=\"_blank\" href=https://colab.research.google.com/notebooks/data_table.ipynb>data table notebook</a>'\n",
              "          + ' to learn more about interactive tables.';\n",
              "        element.innerHTML = '';\n",
              "        dataTable['output_type'] = 'display_data';\n",
              "        await google.colab.output.renderOutput(dataTable, element);\n",
              "        const docLink = document.createElement('div');\n",
              "        docLink.innerHTML = docLinkHtml;\n",
              "        element.appendChild(docLink);\n",
              "      }\n",
              "    </script>\n",
              "  </div>\n",
              "\n",
              "\n",
              "<div id=\"df-9ba902d7-4ed2-4f79-91cc-b7ca9c9f136f\">\n",
              "  <button class=\"colab-df-quickchart\" onclick=\"quickchart('df-9ba902d7-4ed2-4f79-91cc-b7ca9c9f136f')\"\n",
              "            title=\"Suggest charts\"\n",
              "            style=\"display:none;\">\n",
              "\n",
              "<svg xmlns=\"http://www.w3.org/2000/svg\" height=\"24px\"viewBox=\"0 0 24 24\"\n",
              "     width=\"24px\">\n",
              "    <g>\n",
              "        <path d=\"M19 3H5c-1.1 0-2 .9-2 2v14c0 1.1.9 2 2 2h14c1.1 0 2-.9 2-2V5c0-1.1-.9-2-2-2zM9 17H7v-7h2v7zm4 0h-2V7h2v10zm4 0h-2v-4h2v4z\"/>\n",
              "    </g>\n",
              "</svg>\n",
              "  </button>\n",
              "\n",
              "<style>\n",
              "  .colab-df-quickchart {\n",
              "      --bg-color: #E8F0FE;\n",
              "      --fill-color: #1967D2;\n",
              "      --hover-bg-color: #E2EBFA;\n",
              "      --hover-fill-color: #174EA6;\n",
              "      --disabled-fill-color: #AAA;\n",
              "      --disabled-bg-color: #DDD;\n",
              "  }\n",
              "\n",
              "  [theme=dark] .colab-df-quickchart {\n",
              "      --bg-color: #3B4455;\n",
              "      --fill-color: #D2E3FC;\n",
              "      --hover-bg-color: #434B5C;\n",
              "      --hover-fill-color: #FFFFFF;\n",
              "      --disabled-bg-color: #3B4455;\n",
              "      --disabled-fill-color: #666;\n",
              "  }\n",
              "\n",
              "  .colab-df-quickchart {\n",
              "    background-color: var(--bg-color);\n",
              "    border: none;\n",
              "    border-radius: 50%;\n",
              "    cursor: pointer;\n",
              "    display: none;\n",
              "    fill: var(--fill-color);\n",
              "    height: 32px;\n",
              "    padding: 0;\n",
              "    width: 32px;\n",
              "  }\n",
              "\n",
              "  .colab-df-quickchart:hover {\n",
              "    background-color: var(--hover-bg-color);\n",
              "    box-shadow: 0 1px 2px rgba(60, 64, 67, 0.3), 0 1px 3px 1px rgba(60, 64, 67, 0.15);\n",
              "    fill: var(--button-hover-fill-color);\n",
              "  }\n",
              "\n",
              "  .colab-df-quickchart-complete:disabled,\n",
              "  .colab-df-quickchart-complete:disabled:hover {\n",
              "    background-color: var(--disabled-bg-color);\n",
              "    fill: var(--disabled-fill-color);\n",
              "    box-shadow: none;\n",
              "  }\n",
              "\n",
              "  .colab-df-spinner {\n",
              "    border: 2px solid var(--fill-color);\n",
              "    border-color: transparent;\n",
              "    border-bottom-color: var(--fill-color);\n",
              "    animation:\n",
              "      spin 1s steps(1) infinite;\n",
              "  }\n",
              "\n",
              "  @keyframes spin {\n",
              "    0% {\n",
              "      border-color: transparent;\n",
              "      border-bottom-color: var(--fill-color);\n",
              "      border-left-color: var(--fill-color);\n",
              "    }\n",
              "    20% {\n",
              "      border-color: transparent;\n",
              "      border-left-color: var(--fill-color);\n",
              "      border-top-color: var(--fill-color);\n",
              "    }\n",
              "    30% {\n",
              "      border-color: transparent;\n",
              "      border-left-color: var(--fill-color);\n",
              "      border-top-color: var(--fill-color);\n",
              "      border-right-color: var(--fill-color);\n",
              "    }\n",
              "    40% {\n",
              "      border-color: transparent;\n",
              "      border-right-color: var(--fill-color);\n",
              "      border-top-color: var(--fill-color);\n",
              "    }\n",
              "    60% {\n",
              "      border-color: transparent;\n",
              "      border-right-color: var(--fill-color);\n",
              "    }\n",
              "    80% {\n",
              "      border-color: transparent;\n",
              "      border-right-color: var(--fill-color);\n",
              "      border-bottom-color: var(--fill-color);\n",
              "    }\n",
              "    90% {\n",
              "      border-color: transparent;\n",
              "      border-bottom-color: var(--fill-color);\n",
              "    }\n",
              "  }\n",
              "</style>\n",
              "\n",
              "  <script>\n",
              "    async function quickchart(key) {\n",
              "      const quickchartButtonEl =\n",
              "        document.querySelector('#' + key + ' button');\n",
              "      quickchartButtonEl.disabled = true;  // To prevent multiple clicks.\n",
              "      quickchartButtonEl.classList.add('colab-df-spinner');\n",
              "      try {\n",
              "        const charts = await google.colab.kernel.invokeFunction(\n",
              "            'suggestCharts', [key], {});\n",
              "      } catch (error) {\n",
              "        console.error('Error during call to suggestCharts:', error);\n",
              "      }\n",
              "      quickchartButtonEl.classList.remove('colab-df-spinner');\n",
              "      quickchartButtonEl.classList.add('colab-df-quickchart-complete');\n",
              "    }\n",
              "    (() => {\n",
              "      let quickchartButtonEl =\n",
              "        document.querySelector('#df-9ba902d7-4ed2-4f79-91cc-b7ca9c9f136f button');\n",
              "      quickchartButtonEl.style.display =\n",
              "        google.colab.kernel.accessAllowed ? 'block' : 'none';\n",
              "    })();\n",
              "  </script>\n",
              "</div>\n",
              "\n",
              "    </div>\n",
              "  </div>\n"
            ],
            "application/vnd.google.colaboratory.intrinsic+json": {
              "type": "dataframe",
              "variable_name": "credit",
              "summary": "{\n  \"name\": \"credit\",\n  \"rows\": 400,\n  \"fields\": [\n    {\n      \"column\": \"Income\",\n      \"properties\": {\n        \"dtype\": \"number\",\n        \"std\": 35.244273165070524,\n        \"min\": 10.354,\n        \"max\": 186.634,\n        \"samples\": [\n          27.349,\n          48.577,\n          31.367\n        ],\n        \"num_unique_values\": 399,\n        \"semantic_type\": \"\",\n        \"description\": \"\"\n      }\n    },\n    {\n      \"column\": \"Limit\",\n      \"properties\": {\n        \"dtype\": \"number\",\n        \"std\": 2308,\n        \"min\": 855,\n        \"max\": 13913,\n        \"samples\": [\n          3096,\n          1362,\n          6040\n        ],\n        \"num_unique_values\": 387,\n        \"semantic_type\": \"\",\n        \"description\": \"\"\n      }\n    },\n    {\n      \"column\": \"Rating\",\n      \"properties\": {\n        \"dtype\": \"number\",\n        \"std\": 154,\n        \"min\": 93,\n        \"max\": 982,\n        \"samples\": [\n          491,\n          329,\n          214\n        ],\n        \"num_unique_values\": 283,\n        \"semantic_type\": \"\",\n        \"description\": \"\"\n      }\n    },\n    {\n      \"column\": \"Cards\",\n      \"properties\": {\n        \"dtype\": \"number\",\n        \"std\": 1,\n        \"min\": 1,\n        \"max\": 9,\n        \"samples\": [\n          8,\n          3,\n          6\n        ],\n        \"num_unique_values\": 9,\n        \"semantic_type\": \"\",\n        \"description\": \"\"\n      }\n    },\n    {\n      \"column\": \"Age\",\n      \"properties\": {\n        \"dtype\": \"number\",\n        \"std\": 17,\n        \"min\": 23,\n        \"max\": 98,\n        \"samples\": [\n          52,\n          69,\n          68\n        ],\n        \"num_unique_values\": 68,\n        \"semantic_type\": \"\",\n        \"description\": \"\"\n      }\n    },\n    {\n      \"column\": \"Education\",\n      \"properties\": {\n        \"dtype\": \"number\",\n        \"std\": 3,\n        \"min\": 5,\n        \"max\": 20,\n        \"samples\": [\n          11,\n          15,\n          9\n        ],\n        \"num_unique_values\": 16,\n        \"semantic_type\": \"\",\n        \"description\": \"\"\n      }\n    },\n    {\n      \"column\": \"Balance\",\n      \"properties\": {\n        \"dtype\": \"number\",\n        \"std\": 459,\n        \"min\": 0,\n        \"max\": 1999,\n        \"samples\": [\n          1350,\n          1405,\n          52\n        ],\n        \"num_unique_values\": 284,\n        \"semantic_type\": \"\",\n        \"description\": \"\"\n      }\n    }\n  ]\n}"
            }
          },
          "metadata": {},
          "execution_count": 45
        }
      ],
      "source": [
        "credit = pd.read_csv('credit.csv')\n",
        "credit.head()"
      ]
    },
    {
      "cell_type": "code",
      "source": [
        "data = pd.read_csv('credit.csv')\n",
        "\n",
        "print(data.head())\n",
        "\n",
        "X = data[[ 'Income','Limit', 'Rating', 'Cards', 'Age', 'Education']].values\n",
        "\n",
        "y = data['Balance'].values"
      ],
      "metadata": {
        "id": "LYCOPrJFP4e7",
        "colab": {
          "base_uri": "https://localhost:8080/"
        },
        "outputId": "20df99da-7519-4d52-8b23-6c442555c16d"
      },
      "execution_count": 46,
      "outputs": [
        {
          "output_type": "stream",
          "name": "stdout",
          "text": [
            "    Income  Limit  Rating  Cards  Age  Education  Balance\n",
            "0   14.891   3606     283      2   34         11      333\n",
            "1  106.025   6645     483      3   82         15      903\n",
            "2  104.593   7075     514      4   71         11      580\n",
            "3  148.924   9504     681      3   36         11      964\n",
            "4   55.882   4897     357      2   68         16      331\n"
          ]
        }
      ]
    },
    {
      "cell_type": "code",
      "source": [],
      "metadata": {
        "id": "-Ok7d0yp6orf"
      },
      "execution_count": null,
      "outputs": []
    },
    {
      "cell_type": "code",
      "source": [
        "class MLR:\n",
        "  def __init__(self):\n",
        "    self.coef = None\n",
        "    self.intercept=None\n",
        "  def fit(self,X_train,y_train):\n",
        "    X_train = np.insert(X_train,0,1,axis=1)\n",
        "\n",
        "    betas=np.linalg.inv(np.dot(X_train.T,X_train)).dot(X_train.T).dot(y_train)\n",
        "    self.intercept = betas[0]\n",
        "    self.coef =betas[1:]\n",
        "\n",
        "  def predict(self,X_test):\n",
        "    y_pred = np.dot(X_test,self.coef) + self.intercept\n",
        "    return y_pred\n"
      ],
      "metadata": {
        "id": "AeYZGYhR3UoC"
      },
      "execution_count": 47,
      "outputs": []
    },
    {
      "cell_type": "code",
      "source": [
        "X_train,X_test,y_train,y_test = train_test_split(X,y,test_size=0.2,random_state=2)"
      ],
      "metadata": {
        "id": "bf2847dgJbJ3"
      },
      "execution_count": 48,
      "outputs": []
    },
    {
      "cell_type": "code",
      "source": [
        "mlr=MLR()"
      ],
      "metadata": {
        "id": "PQ0LmDlzJdtY"
      },
      "execution_count": 49,
      "outputs": []
    },
    {
      "cell_type": "code",
      "source": [
        "mlr.fit(X_train,y_train)\n"
      ],
      "metadata": {
        "id": "FcKcSPcdJhC9"
      },
      "execution_count": 50,
      "outputs": []
    },
    {
      "cell_type": "code",
      "source": [
        "y_pred=mlr.predict(X_test)"
      ],
      "metadata": {
        "id": "yenfieHlJkxi"
      },
      "execution_count": 51,
      "outputs": []
    },
    {
      "cell_type": "code",
      "source": [
        "mlr.coef"
      ],
      "metadata": {
        "id": "-oDXsILuJnT4",
        "colab": {
          "base_uri": "https://localhost:8080/"
        },
        "outputId": "deccf278-4a53-4a37-f248-49f65be554a8"
      },
      "execution_count": 52,
      "outputs": [
        {
          "output_type": "execute_result",
          "data": {
            "text/plain": [
              "array([-7.61146433,  0.11606681,  2.208801  , 13.01792739, -0.95182104,\n",
              "        1.87314114])"
            ]
          },
          "metadata": {},
          "execution_count": 52
        }
      ]
    },
    {
      "cell_type": "code",
      "source": [
        "mlr.intercept"
      ],
      "metadata": {
        "id": "dcLz2sHfJpKr",
        "colab": {
          "base_uri": "https://localhost:8080/"
        },
        "outputId": "834b85e3-3e8e-4958-8206-b546603d4451"
      },
      "execution_count": 53,
      "outputs": [
        {
          "output_type": "execute_result",
          "data": {
            "text/plain": [
              "-477.09824186260346"
            ]
          },
          "metadata": {},
          "execution_count": 53
        }
      ]
    },
    {
      "cell_type": "code",
      "source": [
        "mse = np.mean((y_test - y_pred) ** 2)\n",
        "rmse = np.sqrt(mse)\n",
        "r_squared = 1 - (np.sum((y_test - y_pred) ** 2) / np.sum((y_test - np.mean(y_test)) ** 2))\n",
        "\n",
        "print(\"Mean Squared Error (MSE):\", mse)\n",
        "print(\"Root Mean Squared Error (RMSE):\", rmse)\n",
        "print(\"R-squared (R^2) score:\", r_squared)"
      ],
      "metadata": {
        "id": "USvhmBdkJrrT",
        "colab": {
          "base_uri": "https://localhost:8080/"
        },
        "outputId": "9e9481ec-67ec-4133-fabd-0310cfd3d626"
      },
      "execution_count": 54,
      "outputs": [
        {
          "output_type": "stream",
          "name": "stdout",
          "text": [
            "Mean Squared Error (MSE): 22509.774790793454\n",
            "Root Mean Squared Error (RMSE): 150.0325790979861\n",
            "R-squared (R^2) score: 0.8857803994520866\n"
          ]
        }
      ]
    },
    {
      "cell_type": "code",
      "source": [],
      "metadata": {
        "id": "BXdJSFHn7y2Z"
      },
      "execution_count": null,
      "outputs": []
    },
    {
      "cell_type": "code",
      "source": [
        "\n",
        "X1 = data[[ 'Income', 'Rating', 'Cards', 'Age', 'Education']].values\n",
        "\n",
        "y1 = data['Balance'].values"
      ],
      "metadata": {
        "id": "5AmLNlad_Rzn"
      },
      "execution_count": 55,
      "outputs": []
    },
    {
      "cell_type": "code",
      "source": [
        "X_train1,X_test1,y_train1,y_test1 = train_test_split(X1,y1,test_size=0.2,random_state=2)\n",
        "mlr1=MLR()\n",
        "mlr1.fit(X_train1,y_train1)\n",
        "y_pred1=mlr1.predict(X_test1)\n",
        "mlr1.coef\n"
      ],
      "metadata": {
        "colab": {
          "base_uri": "https://localhost:8080/"
        },
        "id": "DwS5-q-Y_d8j",
        "outputId": "8c30d296-6ceb-4d76-82bf-4bfe162e1e3a"
      },
      "execution_count": 56,
      "outputs": [
        {
          "output_type": "execute_result",
          "data": {
            "text/plain": [
              "array([-7.56803953,  3.93258227,  4.51957773, -0.97760584,  2.15972987])"
            ]
          },
          "metadata": {},
          "execution_count": 56
        }
      ]
    },
    {
      "cell_type": "code",
      "source": [
        "mlr1.intercept"
      ],
      "metadata": {
        "colab": {
          "base_uri": "https://localhost:8080/"
        },
        "id": "TBFWRs_SAHpa",
        "outputId": "2d801e85-f7ad-4435-8525-84c233bff107"
      },
      "execution_count": 57,
      "outputs": [
        {
          "output_type": "execute_result",
          "data": {
            "text/plain": [
              "-518.3648649492288"
            ]
          },
          "metadata": {},
          "execution_count": 57
        }
      ]
    },
    {
      "cell_type": "code",
      "source": [
        "mse1 = np.mean((y_test1 - y_pred1) ** 2)\n",
        "rmse1 = np.sqrt(mse1)\n",
        "r_squared1 = 1 - (np.sum((y_test1 - y_pred1) ** 2) / np.sum((y_test1 - np.mean(y_test1)) ** 2))\n",
        "\n",
        "print(\"Mean Squared Error (MSE):\", mse1)\n",
        "print(\"Root Mean Squared Error (RMSE):\", rmse1)\n",
        "print(\"R-squared (R^2) score:\", r_squared1)"
      ],
      "metadata": {
        "colab": {
          "base_uri": "https://localhost:8080/"
        },
        "id": "LLTMAhhz8J6F",
        "outputId": "d00607c3-73af-4dc1-f383-068f05ea537f"
      },
      "execution_count": 58,
      "outputs": [
        {
          "output_type": "stream",
          "name": "stdout",
          "text": [
            "Mean Squared Error (MSE): 23045.682028574218\n",
            "Root Mean Squared Error (RMSE): 151.8080433592839\n",
            "R-squared (R^2) score: 0.8830610870112048\n"
          ]
        }
      ]
    },
    {
      "cell_type": "code",
      "source": [
        "data['Rating_Age'] = data['Rating'] * data['Age']\n",
        "X2 = data[['Income', 'Rating', 'Cards', 'Age', 'Education', 'Rating_Age']].values\n",
        "y2 = data['Balance'].values\n",
        "X_train2,X_test2,y_train2,y_test2 = train_test_split(X2,y2,test_size=0.2,random_state=2)\n",
        "\n",
        "\n",
        "\n"
      ],
      "metadata": {
        "id": "10wn8Vr8JuCs"
      },
      "execution_count": 59,
      "outputs": []
    },
    {
      "cell_type": "code",
      "source": [
        "mlr2=MLR()\n",
        "mlr2.fit(X_train2,y_train2)\n",
        "y_pred2=mlr2.predict(X_test2)"
      ],
      "metadata": {
        "id": "NDdfNNHhJxAc"
      },
      "execution_count": 60,
      "outputs": []
    },
    {
      "cell_type": "code",
      "source": [
        "mse2 = np.mean((y_test2 - y_pred2) ** 2)\n",
        "rmse2 = np.sqrt(mse2)\n",
        "r_squared2 = 1 - (np.sum((y_test2 - y_pred2) ** 2) / np.sum((y_test2 - np.mean(y_test2)) ** 2))\n",
        "\n",
        "print(\"Mean Squared Error (MSE):\", mse2)\n",
        "print(\"Root Mean Squared Error (RMSE):\", rmse2)\n",
        "print(\"R-squared (R^2) score:\", r_squared2)"
      ],
      "metadata": {
        "id": "JRoYW6deJzGI",
        "colab": {
          "base_uri": "https://localhost:8080/"
        },
        "outputId": "ec2c9cfd-b1a1-439d-9922-7462ed2db1a0"
      },
      "execution_count": 61,
      "outputs": [
        {
          "output_type": "stream",
          "name": "stdout",
          "text": [
            "Mean Squared Error (MSE): 22926.183192536282\n",
            "Root Mean Squared Error (RMSE): 151.4139464928389\n",
            "R-squared (R^2) score: 0.8836674506663301\n"
          ]
        }
      ]
    },
    {
      "cell_type": "code",
      "source": [
        "from tabulate import tabulate\n",
        "\n",
        "error_metrics = [\n",
        "    [\"Multiple Linear Regression\", mse, rmse, r_squared],\n",
        "    [\"MLR without Limit\", mse1, rmse1, r_squared1],\n",
        "    [\"Interaction Effects\", mse2, rmse2, r_squared2]\n",
        "]\n",
        "\n",
        "headers = [\"Experiment\", \"Mean Squared Error\", \"Root Mean Squared Error\", \"R-squared (R^2) score\"]\n",
        "\n",
        "print(\"\\nError Metrics:\")\n",
        "print(tabulate(error_metrics, headers=headers))"
      ],
      "metadata": {
        "colab": {
          "base_uri": "https://localhost:8080/"
        },
        "id": "ZYHVkI2AE8VQ",
        "outputId": "a402af18-7dae-4bad-b358-8fbbfce9bddf"
      },
      "execution_count": 63,
      "outputs": [
        {
          "output_type": "stream",
          "name": "stdout",
          "text": [
            "\n",
            "Error Metrics:\n",
            "Experiment                    Mean Squared Error    Root Mean Squared Error    R-squared (R^2) score\n",
            "--------------------------  --------------------  -------------------------  -----------------------\n",
            "Multiple Linear Regression               22509.8                    150.033                 0.88578\n",
            "MLR without Limit                        23045.7                    151.808                 0.883061\n",
            "Interaction Effects                      22926.2                    151.414                 0.883667\n"
          ]
        }
      ]
    },
    {
      "cell_type": "code",
      "source": [],
      "metadata": {
        "id": "UYxFNVNWbzmB"
      },
      "execution_count": null,
      "outputs": []
    },
    {
      "cell_type": "markdown",
      "metadata": {
        "id": "wDFv0bB-0Wfx"
      },
      "source": [
        "### Part 3: Shark Attacks\n",
        "\n",
        "This is a fun dataset that aims to predict the number of shark attacks (`SharkAttacks`) using variables like `Year`, `Month`, `Temperature`, and `IceCreamSales`. This dataset has been used in popular media to show how correlation does not imply causation. Test whether predictions made with ice cream sales data are any better/worse than predictions made by neglecting ice cream sales data.\n",
        "\n",
        "This sort of analysis reminds us that it is important to look at the data before using it for learning representations."
      ]
    },
    {
      "cell_type": "code",
      "execution_count": null,
      "metadata": {
        "id": "GgftPmoIDChS"
      },
      "outputs": [],
      "source": [
        "# sharks = pd.read_csv('shark_attacks.csv')\n",
        "# sharks.head()"
      ]
    },
    {
      "cell_type": "code",
      "source": [
        "import pandas as pd\n",
        "import numpy as np\n",
        "from sklearn.model_selection import train_test_split\n",
        "from sklearn.metrics import mean_squared_error, r2_score"
      ],
      "metadata": {
        "id": "NIlrGQmIIjif"
      },
      "execution_count": 64,
      "outputs": []
    },
    {
      "cell_type": "code",
      "source": [
        "data = pd.read_csv('shark_attacks.csv')\n",
        "print(data)\n",
        "X = data[['Year', 'Month', 'Temperature', 'IceCreamSales']].values\n",
        "y = data['SharkAttacks'].values"
      ],
      "metadata": {
        "id": "3GfFXkbDIqZF",
        "colab": {
          "base_uri": "https://localhost:8080/"
        },
        "outputId": "283f2ec3-3844-46cb-fcbe-16e3f8791a79"
      },
      "execution_count": 65,
      "outputs": [
        {
          "output_type": "stream",
          "name": "stdout",
          "text": [
            "    Year  Month  SharkAttacks  Temperature  IceCreamSales\n",
            "0   2008      1            25    11.900000             76\n",
            "1   2008      2            28    15.200000             79\n",
            "2   2008      3            32    17.200000             91\n",
            "3   2008      4            35    18.500000             95\n",
            "4   2008      5            38    19.400000            103\n",
            "..   ...    ...           ...          ...            ...\n",
            "79  2014      8            36    23.744268            101\n",
            "80  2014      9            42    23.585229             78\n",
            "81  2014     10            50    17.719383             94\n",
            "82  2014     11            27    16.472557             72\n",
            "83  2014     12            32    14.686391             68\n",
            "\n",
            "[84 rows x 5 columns]\n"
          ]
        }
      ]
    },
    {
      "cell_type": "code",
      "execution_count": 66,
      "metadata": {
        "id": "FVLNM47UDWNV"
      },
      "outputs": [],
      "source": [
        "class MLR:\n",
        "  def __init__(self):\n",
        "    self.coef = None\n",
        "    self.intercept=None\n",
        "  def fit(self,X_train,y_train):\n",
        "    X_train = np.insert(X_train,0,1,axis=1)\n",
        "\n",
        "    betas=np.linalg.inv(np.dot(X_train.T,X_train)).dot(X_train.T).dot(y_train)\n",
        "    self.intercept = betas[0]\n",
        "    self.coef =betas[1:]\n",
        "\n",
        "  def predict(self,X_test):\n",
        "    y_pred = np.dot(X_test,self.coef) + self.intercept\n",
        "    return y_pred"
      ]
    },
    {
      "cell_type": "code",
      "source": [
        "X_train, X_test, y_train, y_test = train_test_split(X, y, test_size=0.2, random_state=42)"
      ],
      "metadata": {
        "id": "jFTQViA9IwXB"
      },
      "execution_count": 67,
      "outputs": []
    },
    {
      "cell_type": "code",
      "source": [
        "mlr = MLR()\n",
        "mlr.fit(X_train, y_train)\n",
        "y_pred = mlr.predict(X_test)"
      ],
      "metadata": {
        "id": "6qfgfONpIyfB"
      },
      "execution_count": 68,
      "outputs": []
    },
    {
      "cell_type": "code",
      "source": [
        "#including ICECREAM\n",
        "mse = np.mean((y_test - y_pred) ** 2)\n",
        "rmse = np.sqrt(mse)\n",
        "r_squared = 1 - (np.sum((y_test - y_pred) ** 2) / np.sum((y_test - np.mean(y_test)) ** 2))\n",
        "\n",
        "print(\"Mean Squared Error (MSE):\", mse)\n",
        "print(\"Root Mean Squared Error (RMSE):\", rmse)\n",
        "print(\"R-squared (R^2) score:\", r_squared)"
      ],
      "metadata": {
        "id": "3yV1JirII1Zc",
        "colab": {
          "base_uri": "https://localhost:8080/"
        },
        "outputId": "5ad6be88-8ffe-40f7-9bee-92ee209a4a0e"
      },
      "execution_count": 69,
      "outputs": [
        {
          "output_type": "stream",
          "name": "stdout",
          "text": [
            "Mean Squared Error (MSE): 37.675376276640534\n",
            "Root Mean Squared Error (RMSE): 6.138027067115339\n",
            "R-squared (R^2) score: 0.5000374807627369\n"
          ]
        }
      ]
    },
    {
      "cell_type": "code",
      "source": [
        "#Excluding ICECREAM\n",
        "\n",
        "X1 =data[['Year', 'Month', 'Temperature']].values\n",
        "y1 = data['SharkAttacks'].values\n",
        "X_train1, X_test1, y_train1, y_test1 = train_test_split(X1, y1, test_size=0.2, random_state=42)\n",
        "mlr1 = MLR()\n",
        "mlr1.fit(X_train1, y_train1)\n",
        "y_pred1 = mlr1.predict(X_test1)"
      ],
      "metadata": {
        "id": "yFi08yEfI4Es"
      },
      "execution_count": 70,
      "outputs": []
    },
    {
      "cell_type": "code",
      "source": [
        "#Excluding ICECREAM\n",
        "mse1 = np.mean((y_test1 - y_pred1) ** 2)\n",
        "rmse1 = np.sqrt(mse1)\n",
        "r_squared1 = 1 - (np.sum((y_test1 - y_pred1) ** 2) / np.sum((y_test1 - np.mean(y_test1)) ** 2))\n",
        "\n",
        "print(\"Mean Squared Error (MSE):\", mse1)\n",
        "print(\"Root Mean Squared Error (RMSE):\", rmse1)\n",
        "print(\"R-squared (R^2) score:\", r_squared1)"
      ],
      "metadata": {
        "id": "EVzigrojI8jC",
        "colab": {
          "base_uri": "https://localhost:8080/"
        },
        "outputId": "aebf2c9e-dbb8-4c82-f1e3-c0f7ae6d6920"
      },
      "execution_count": 71,
      "outputs": [
        {
          "output_type": "stream",
          "name": "stdout",
          "text": [
            "Mean Squared Error (MSE): 43.38138077715389\n",
            "Root Mean Squared Error (RMSE): 6.58645434032256\n",
            "R-squared (R^2) score: 0.4243172447149657\n"
          ]
        }
      ]
    },
    {
      "cell_type": "code",
      "source": [
        "from tabulate import tabulate\n",
        "error_metrics = [\n",
        "    [\"MLR with Ice-Cream\", mse, rmse, r_squared],\n",
        "    [\"MLR without Ice-Cream\", mse1, rmse1, r_squared1]\n",
        "]\n",
        "headers = [\"Experiment\", \"Mean Squared Error\", \"Root Mean Squared Error\", \"R-squared (R^2) score\"]\n",
        "print(\"\\nError Metrics:\")\n",
        "print(tabulate(error_metrics, headers=headers))"
      ],
      "metadata": {
        "colab": {
          "base_uri": "https://localhost:8080/"
        },
        "id": "jLfcfC2hHKUB",
        "outputId": "13e1dd71-3e84-423a-fe4a-a51cd692373a"
      },
      "execution_count": 73,
      "outputs": [
        {
          "output_type": "stream",
          "name": "stdout",
          "text": [
            "\n",
            "Error Metrics:\n",
            "Experiment               Mean Squared Error    Root Mean Squared Error    R-squared (R^2) score\n",
            "---------------------  --------------------  -------------------------  -----------------------\n",
            "MLR with Ice-Cream                  37.6754                    6.13803                 0.500037\n",
            "MLR without Ice-Cream               43.3814                    6.58645                 0.424317\n"
          ]
        }
      ]
    },
    {
      "cell_type": "code",
      "source": [],
      "metadata": {
        "id": "-tvODtDPb7m9"
      },
      "execution_count": null,
      "outputs": []
    }
  ],
  "metadata": {
    "colab": {
      "provenance": [],
      "include_colab_link": true
    },
    "kernelspec": {
      "display_name": "Python 3 (ipykernel)",
      "language": "python",
      "name": "python3"
    },
    "language_info": {
      "codemirror_mode": {
        "name": "ipython",
        "version": 3
      },
      "file_extension": ".py",
      "mimetype": "text/x-python",
      "name": "python",
      "nbconvert_exporter": "python",
      "pygments_lexer": "ipython3",
      "version": "3.7.6"
    }
  },
  "nbformat": 4,
  "nbformat_minor": 0
}