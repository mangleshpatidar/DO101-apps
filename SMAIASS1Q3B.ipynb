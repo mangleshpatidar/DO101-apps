{
  "nbformat": 4,
  "nbformat_minor": 0,
  "metadata": {
    "colab": {
      "provenance": [],
      "authorship_tag": "ABX9TyNbJVmkYUKqO97ZEzoViefP",
      "include_colab_link": true
    },
    "kernelspec": {
      "name": "python3",
      "display_name": "Python 3"
    },
    "language_info": {
      "name": "python"
    }
  },
  "cells": [
    {
      "cell_type": "markdown",
      "metadata": {
        "id": "view-in-github",
        "colab_type": "text"
      },
      "source": [
        "<a href=\"https://colab.research.google.com/github/mangleshpatidar/DO101-apps/blob/master/SMAIASS1Q3B.ipynb\" target=\"_parent\"><img src=\"https://colab.research.google.com/assets/colab-badge.svg\" alt=\"Open In Colab\"/></a>"
      ]
    },
    {
      "cell_type": "code",
      "source": [
        "import numpy as np\n",
        "import pandas as pd\n",
        "from sklearn.model_selection import train_test_split"
      ],
      "metadata": {
        "id": "GlMtl8xyZDmm"
      },
      "execution_count": 61,
      "outputs": []
    },
    {
      "cell_type": "code",
      "source": [
        "data = pd.read_csv('credit.csv')\n",
        "\n",
        "print(data.head())\n",
        "\n",
        "X = data[[ 'Income', 'Rating', 'Cards', 'Age', 'Education']].values\n",
        "\n",
        "y = data['Balance'].values"
      ],
      "metadata": {
        "colab": {
          "base_uri": "https://localhost:8080/"
        },
        "id": "DAs_Ddv6b0KD",
        "outputId": "a84d1a4c-81c8-4524-f800-1f460c1b8b66"
      },
      "execution_count": 76,
      "outputs": [
        {
          "output_type": "stream",
          "name": "stdout",
          "text": [
            "    Income  Limit  Rating  Cards  Age  Education  Balance\n",
            "0   14.891   3606     283      2   34         11      333\n",
            "1  106.025   6645     483      3   82         15      903\n",
            "2  104.593   7075     514      4   71         11      580\n",
            "3  148.924   9504     681      3   36         11      964\n",
            "4   55.882   4897     357      2   68         16      331\n"
          ]
        }
      ]
    },
    {
      "cell_type": "code",
      "source": [
        "X"
      ],
      "metadata": {
        "colab": {
          "base_uri": "https://localhost:8080/"
        },
        "id": "Em3_UGekfHkk",
        "outputId": "88369384-4d22-418a-e0e6-c499e24f0212"
      },
      "execution_count": 77,
      "outputs": [
        {
          "output_type": "execute_result",
          "data": {
            "text/plain": [
              "array([[ 14.891, 283.   ,   2.   ,  34.   ,  11.   ],\n",
              "       [106.025, 483.   ,   3.   ,  82.   ,  15.   ],\n",
              "       [104.593, 514.   ,   4.   ,  71.   ,  11.   ],\n",
              "       ...,\n",
              "       [ 57.872, 321.   ,   5.   ,  67.   ,  12.   ],\n",
              "       [ 37.728, 192.   ,   1.   ,  44.   ,  13.   ],\n",
              "       [ 18.701, 415.   ,   5.   ,  64.   ,   7.   ]])"
            ]
          },
          "metadata": {},
          "execution_count": 77
        }
      ]
    },
    {
      "cell_type": "code",
      "source": [
        "y"
      ],
      "metadata": {
        "colab": {
          "base_uri": "https://localhost:8080/"
        },
        "id": "-_J6n4DbfKTU",
        "outputId": "3b342f7f-43b7-46f8-9f3b-c2ae60a07e3a"
      },
      "execution_count": 78,
      "outputs": [
        {
          "output_type": "execute_result",
          "data": {
            "text/plain": [
              "array([ 333,  903,  580,  964,  331, 1151,  203,  872,  279, 1350, 1407,\n",
              "          0,  204, 1081,  148,    0,    0,  368,  891, 1048,   89,  968,\n",
              "          0,  411,    0,  671,  654,  467, 1809,  915,  863,    0,  526,\n",
              "          0,    0,  419,  762, 1093,  531,  344,   50, 1155,  385,  976,\n",
              "       1120,  997, 1241,  797,    0,  902,  654,  211,  607,  957,    0,\n",
              "          0,  379,  133,  333,  531,  631,  108,    0,  133,    0,  602,\n",
              "       1388,  889,  822, 1084,  357, 1103,  663,  601,  945,   29,  532,\n",
              "        145,  391,    0,  162,   99,  503,    0,    0, 1779,  815,    0,\n",
              "        579, 1176, 1023,  812,    0,  937,    0,    0, 1380,  155,  375,\n",
              "       1311,  298,  431, 1587, 1050,  745,  210,    0,    0,  227,  297,\n",
              "         47,    0, 1046,  768,  271,  510,    0, 1341,    0,    0,    0,\n",
              "        454,  904,    0,    0,    0, 1404,    0, 1259,  255,  868,    0,\n",
              "        912, 1018,  835,    8,   75,  187,    0, 1597, 1425,  605,  669,\n",
              "        710,   68,  642,  805,    0,    0,    0,  581,  534,  156,    0,\n",
              "          0,    0,  429, 1020,  653,    0,  836,    0, 1086,    0,  548,\n",
              "        570,    0,    0,    0, 1099,    0,  283,  108,  724, 1573,    0,\n",
              "          0,  384,  453, 1237,  423,  516,  789,    0, 1448,  450,  188,\n",
              "          0,  930,  126,  538, 1687,  336, 1426,    0,  802,  749,   69,\n",
              "          0,  571,  829, 1048,    0, 1411,  456,  638,    0, 1216,  230,\n",
              "        732,   95,  799,  308,  637,  681,  246,   52,  955,  195,  653,\n",
              "       1246, 1230, 1549,  573,  701, 1075, 1032,  482,  156, 1058,  661,\n",
              "        657,  689,    0, 1329,  191,  489,  443,   52,  163,  148,    0,\n",
              "         16,  856,    0,    0,  199,    0,    0,   98,    0,  132, 1355,\n",
              "        218, 1048,  118,    0,    0,    0, 1092,  345, 1050,  465,  133,\n",
              "        651,  549,   15,  942,    0,  772,  136,  436,  728, 1255,  967,\n",
              "        529,  209,  531,  250,  269,  541,    0, 1298,  890,    0,    0,\n",
              "          0,    0,  863,  485,  159,  309,  481, 1677,    0,    0,  293,\n",
              "        188,    0,  711,  580,  172,  295,  414,  905,    0,   70,    0,\n",
              "        681,  885, 1036,  844,  823,  843, 1140,  463, 1142,  136,    0,\n",
              "          0,    5,   81,  265, 1999,  415,  732, 1361,  984,  121,  846,\n",
              "       1054,  474,  380,  182,  594,  194,  926,    0,  606, 1107,  320,\n",
              "        426,  204,  410,  633,    0,  907, 1192,    0,  503,    0,  302,\n",
              "        583,  425,  413, 1405,  962,    0,  347,  611,  712,  382,  710,\n",
              "        578, 1243,  790, 1264,  216,  345, 1208,  992,    0,  840, 1003,\n",
              "        588, 1000,  767,    0,  717,    0,  661,  849, 1352,  382,    0,\n",
              "        905,  371,    0, 1129,  806, 1393,  721,    0,    0,  734,  560,\n",
              "        480,  138,    0,  966])"
            ]
          },
          "metadata": {},
          "execution_count": 78
        }
      ]
    },
    {
      "cell_type": "code",
      "source": [
        "class MLR:\n",
        "  def __init__(self):\n",
        "    self.coef = None\n",
        "    self.intercept=None\n",
        "  def fit(self,X_train,y_train):\n",
        "    X_train = np.insert(X_train,0,1,axis=1)\n",
        "\n",
        "    betas=np.linalg.inv(np.dot(X_train.T,X_train)).dot(X_train.T).dot(y_train)\n",
        "    self.intercept = betas[0]\n",
        "    self.coef =betas[1:]\n",
        "\n",
        "  def predict(self,X_test):\n",
        "    y_pred = np.dot(X_test,self.coef) + self.intercept\n",
        "    return y_pred\n"
      ],
      "metadata": {
        "id": "_IWaKs8LZKqJ"
      },
      "execution_count": 94,
      "outputs": []
    },
    {
      "cell_type": "code",
      "source": [
        "X_train,X_test,y_train,y_test = train_test_split(X,y,test_size=0.2,random_state=2)"
      ],
      "metadata": {
        "id": "e3aOITxmcF-g"
      },
      "execution_count": 80,
      "outputs": []
    },
    {
      "cell_type": "code",
      "source": [
        "mlr=MLR()"
      ],
      "metadata": {
        "id": "-eIAEJNPatZh"
      },
      "execution_count": 81,
      "outputs": []
    },
    {
      "cell_type": "code",
      "source": [
        "mlr.fit(X_train,y_train)\n"
      ],
      "metadata": {
        "id": "HqedgyB-a0_3"
      },
      "execution_count": 82,
      "outputs": []
    },
    {
      "cell_type": "code",
      "source": [
        "X_train.shape"
      ],
      "metadata": {
        "colab": {
          "base_uri": "https://localhost:8080/"
        },
        "id": "dr5C4aWaa_zU",
        "outputId": "0081311d-20cd-4b83-8fba-3e050da5569f"
      },
      "execution_count": 83,
      "outputs": [
        {
          "output_type": "execute_result",
          "data": {
            "text/plain": [
              "(320, 5)"
            ]
          },
          "metadata": {},
          "execution_count": 83
        }
      ]
    },
    {
      "cell_type": "code",
      "source": [
        "y_train.shape"
      ],
      "metadata": {
        "colab": {
          "base_uri": "https://localhost:8080/"
        },
        "id": "tp1cLH2HgFOE",
        "outputId": "f4d40e4f-3959-4fd7-9fd4-2a59c0a714ca"
      },
      "execution_count": 84,
      "outputs": [
        {
          "output_type": "execute_result",
          "data": {
            "text/plain": [
              "(320,)"
            ]
          },
          "metadata": {},
          "execution_count": 84
        }
      ]
    },
    {
      "cell_type": "code",
      "source": [
        "X_test.shape"
      ],
      "metadata": {
        "colab": {
          "base_uri": "https://localhost:8080/"
        },
        "id": "AMpZuRIcgLxe",
        "outputId": "c89073a1-3b70-40b9-d7d0-4cc508e1435b"
      },
      "execution_count": 85,
      "outputs": [
        {
          "output_type": "execute_result",
          "data": {
            "text/plain": [
              "(80, 5)"
            ]
          },
          "metadata": {},
          "execution_count": 85
        }
      ]
    },
    {
      "cell_type": "code",
      "source": [
        "\n",
        "y_pred=mlr.predict(X_test)"
      ],
      "metadata": {
        "id": "wlm071adbMyb"
      },
      "execution_count": 86,
      "outputs": []
    },
    {
      "cell_type": "code",
      "source": [
        "y_pred.shape"
      ],
      "metadata": {
        "colab": {
          "base_uri": "https://localhost:8080/"
        },
        "id": "If_p-zfPgRjz",
        "outputId": "d7ac35bb-05f0-4fda-ef78-19b264601de5"
      },
      "execution_count": 87,
      "outputs": [
        {
          "output_type": "execute_result",
          "data": {
            "text/plain": [
              "(80,)"
            ]
          },
          "metadata": {},
          "execution_count": 87
        }
      ]
    },
    {
      "cell_type": "code",
      "source": [
        "mlr.coef"
      ],
      "metadata": {
        "colab": {
          "base_uri": "https://localhost:8080/"
        },
        "id": "SWFq6h-hbjU7",
        "outputId": "f94f180d-a55b-455f-f369-472b5560e817"
      },
      "execution_count": 89,
      "outputs": [
        {
          "output_type": "execute_result",
          "data": {
            "text/plain": [
              "array([-7.56803953,  3.93258227,  4.51957773, -0.97760584,  2.15972987])"
            ]
          },
          "metadata": {},
          "execution_count": 89
        }
      ]
    },
    {
      "cell_type": "code",
      "source": [
        "mlr.intercept"
      ],
      "metadata": {
        "colab": {
          "base_uri": "https://localhost:8080/"
        },
        "id": "NyKGtZykbmB-",
        "outputId": "604d5e77-07a7-4046-e021-850168f31fc9"
      },
      "execution_count": 90,
      "outputs": [
        {
          "output_type": "execute_result",
          "data": {
            "text/plain": [
              "-518.3648649492288"
            ]
          },
          "metadata": {},
          "execution_count": 90
        }
      ]
    },
    {
      "cell_type": "code",
      "source": [
        "mse = np.mean((y_test - y_pred) ** 2)\n",
        "rmse = np.sqrt(mse)\n",
        "r_squared = 1 - (np.sum((y_test - y_pred) ** 2) / np.sum((y_test - np.mean(y_test)) ** 2))\n",
        "\n",
        "print(\"Mean Squared Error (MSE):\", mse)\n",
        "print(\"Root Mean Squared Error (RMSE):\", rmse)\n",
        "print(\"R-squared (R^2) score:\", r_squared)"
      ],
      "metadata": {
        "colab": {
          "base_uri": "https://localhost:8080/"
        },
        "id": "dp1nbKGpqExu",
        "outputId": "6e1fed9f-62c1-4fc2-ed3e-2067278d5aec"
      },
      "execution_count": 92,
      "outputs": [
        {
          "output_type": "stream",
          "name": "stdout",
          "text": [
            "Error metrics for the model with interaction term:\n",
            "Mean Squared Error (MSE): 23045.682028574218\n",
            "Root Mean Squared Error (RMSE): 151.8080433592839\n",
            "R-squared (R^2) score: 0.8830610870112048\n"
          ]
        }
      ]
    },
    {
      "cell_type": "code",
      "source": [],
      "metadata": {
        "id": "KCFhILqEI7V8"
      },
      "execution_count": null,
      "outputs": []
    },
    {
      "cell_type": "code",
      "source": [
        "\n",
        "\n",
        "data['Rating_Age'] = data['Rating'] * data['Age']\n",
        "\n",
        "X = data[['Income', 'Rating', 'Cards', 'Age', 'Education', 'Rating_Age']].values\n",
        "y = data['Balance'].values\n",
        "X_train1,X_test1,y_train1,y_test1 = train_test_split(X,y,test_size=0.2,random_state=2)\n",
        "\n",
        "\n",
        "\n"
      ],
      "metadata": {
        "id": "oFVTMzrjresD"
      },
      "execution_count": 96,
      "outputs": []
    },
    {
      "cell_type": "code",
      "source": [
        "mlr1=MLR()\n",
        "mlr1.fit(X_train1,y_train1)\n",
        "y_pred1=mlr1.predict(X_test1)"
      ],
      "metadata": {
        "id": "o73X--YOtyZF"
      },
      "execution_count": 98,
      "outputs": []
    },
    {
      "cell_type": "code",
      "source": [
        "mse1 = np.mean((y_test1 - y_pred1) ** 2)\n",
        "rmse1 = np.sqrt(mse1)\n",
        "r_squared1 = 1 - (np.sum((y_test1 - y_pred1) ** 2) / np.sum((y_test1 - np.mean(y_test1)) ** 2))\n",
        "\n",
        "print(\"Mean Squared Error (MSE):\", mse1)\n",
        "print(\"Root Mean Squared Error (RMSE):\", rmse1)\n",
        "print(\"R-squared (R^2) score:\", r_squared1)"
      ],
      "metadata": {
        "colab": {
          "base_uri": "https://localhost:8080/"
        },
        "id": "5W2BGdkLtbE1",
        "outputId": "905c167d-fb0d-4c22-d375-a1bbc001c4df"
      },
      "execution_count": 99,
      "outputs": [
        {
          "output_type": "stream",
          "name": "stdout",
          "text": [
            "Mean Squared Error (MSE): 22926.183192536282\n",
            "Root Mean Squared Error (RMSE): 151.4139464928389\n",
            "R-squared (R^2) score: 0.8836674506663301\n"
          ]
        }
      ]
    },
    {
      "cell_type": "code",
      "source": [],
      "metadata": {
        "id": "6IzB9-Bx4xtI"
      },
      "execution_count": null,
      "outputs": []
    }
  ]
}