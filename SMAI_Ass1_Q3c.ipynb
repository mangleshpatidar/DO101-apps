{
  "nbformat": 4,
  "nbformat_minor": 0,
  "metadata": {
    "colab": {
      "provenance": [],
      "authorship_tag": "ABX9TyOrcWvVXs6kuqhb4F+BvoDZ"
    },
    "kernelspec": {
      "name": "python3",
      "display_name": "Python 3"
    },
    "language_info": {
      "name": "python"
    }
  },
  "cells": [
    {
      "cell_type": "code",
      "source": [
        "import pandas as pd\n",
        "import numpy as np\n",
        "from sklearn.model_selection import train_test_split\n",
        "from sklearn.metrics import mean_squared_error, r2_score"
      ],
      "metadata": {
        "id": "EI-VA33l8Fhd"
      },
      "execution_count": 14,
      "outputs": []
    },
    {
      "cell_type": "code",
      "source": [
        "# Load the dataset\n",
        "data = pd.read_csv('shark_attacks.csv')\n",
        "\n",
        "# Prepare the data\n",
        "X = data[['Year', 'Month', 'Temperature', 'IceCreamSales']].values\n",
        "y = data['SharkAttacks'].values"
      ],
      "metadata": {
        "id": "txaFy_lA8H3b"
      },
      "execution_count": 15,
      "outputs": []
    },
    {
      "cell_type": "code",
      "source": [
        "# Define the MLR class\n",
        "class MLR:\n",
        "  def __init__(self):\n",
        "    self.coef = None\n",
        "    self.intercept=None\n",
        "  def fit(self,X_train,y_train):\n",
        "    X_train = np.insert(X_train,0,1,axis=1)\n",
        "\n",
        "    betas=np.linalg.inv(np.dot(X_train.T,X_train)).dot(X_train.T).dot(y_train)\n",
        "    self.intercept = betas[0]\n",
        "    self.coef =betas[1:]\n",
        "\n",
        "  def predict(self,X_test):\n",
        "    y_pred = np.dot(X_test,self.coef) + self.intercept\n",
        "    return y_pred"
      ],
      "metadata": {
        "id": "bKT2916U8Ige"
      },
      "execution_count": 16,
      "outputs": []
    },
    {
      "cell_type": "code",
      "source": [
        "# Split the data into training and testing sets\n",
        "X_train, X_test, y_train, y_test = train_test_split(X, y, test_size=0.2, random_state=42)"
      ],
      "metadata": {
        "id": "n3_T91LA8JWy"
      },
      "execution_count": 17,
      "outputs": []
    },
    {
      "cell_type": "code",
      "source": [
        "# Fit model including IceCreamSales data\n",
        "mlr = MLR()\n",
        "mlr.fit(X_train, y_train)\n",
        "y_pred = mlr.predict(X_test)"
      ],
      "metadata": {
        "id": "7PhxAqds8KGN"
      },
      "execution_count": 18,
      "outputs": []
    },
    {
      "cell_type": "code",
      "source": [
        "\n",
        "# Calculate metrics for model including IceCreamSales data\n",
        "mse = mean_squared_error(y_test, y_pred)\n",
        "r2 = r2_score(y_test, y_pred)"
      ],
      "metadata": {
        "id": "9W_1I38G8LET"
      },
      "execution_count": 19,
      "outputs": []
    },
    {
      "cell_type": "code",
      "source": [
        "# Fit model excluding IceCreamSales data\n",
        "X1 =data[['Year', 'Month', 'Temperature']].values\n",
        "y = data['SharkAttacks'].values\n",
        "X_train1, X_test1, y_train1, y_test1 = train_test_split(X1, y, test_size=0.2, random_state=42)\n",
        "mlr1 = MLR()\n",
        "mlr1.fit(X_train1, y_train1)\n",
        "y_pred1 = mlr1.predict(X_test1)"
      ],
      "metadata": {
        "id": "g69IvDPa8yFW"
      },
      "execution_count": 20,
      "outputs": []
    },
    {
      "cell_type": "code",
      "source": [
        "\n",
        "# Calculate metrics for model excluding IceCreamSales data\n",
        "mse1 = mean_squared_error(y_test1, y_pred1)\n",
        "r21 = r2_score(y_test1, y_pred1)"
      ],
      "metadata": {
        "id": "46TbLQQj83Fh"
      },
      "execution_count": 21,
      "outputs": []
    },
    {
      "cell_type": "code",
      "execution_count": 25,
      "metadata": {
        "colab": {
          "base_uri": "https://localhost:8080/"
        },
        "id": "_wbY_guM41rg",
        "outputId": "f21a1016-651e-4ab3-9fd5-baf6ab49eae6"
      },
      "outputs": [
        {
          "output_type": "stream",
          "name": "stdout",
          "text": [
            "Metrics for model including IceCreamSales data:\n",
            "Mean Squared Error (MSE): 37.675376276640534\n",
            "R-squared (R^2) score: 0.5000374807627369\n",
            "Metrics for model excluding IceCreamSales data:\n",
            "Mean Squared Error (MSE): 43.38138077715389\n",
            "R-squared (R^2) score: 0.4243172447149657\n"
          ]
        }
      ],
      "source": [
        "#including ICECREAM\n",
        "mse = np.mean((y_test - y_pred) ** 2)\n",
        "\n",
        "r_squared = 1 - (np.sum((y_test - y_pred) ** 2) / np.sum((y_test - np.mean(y_test)) ** 2))\n",
        "\n",
        "\n",
        "print(\"Metrics for model including IceCreamSales data:\")\n",
        "print(\"Mean Squared Error (MSE):\", mse)\n",
        "print(\"R-squared (R^2) score:\", r2)\n",
        "\n",
        "#Excluding ICECREAM\n",
        "\n",
        "mse = np.mean((y_test1 - y_pred1) ** 2)\n",
        "\n",
        "r_squared = 1 - (np.sum((y_test1 - y_pred1) ** 2) / np.sum((y_test1 - np.mean(y_test1)) ** 2))\n",
        "\n",
        "\n",
        "print(\"Metrics for model excluding IceCreamSales data:\")\n",
        "print(\"Mean Squared Error (MSE):\", mse1)\n",
        "print(\"R-squared (R^2) score:\", r21)\n"
      ]
    },
    {
      "cell_type": "code",
      "source": [],
      "metadata": {
        "id": "-vszhpkY8wX_"
      },
      "execution_count": null,
      "outputs": []
    }
  ]
}