{
  "nbformat": 4,
  "nbformat_minor": 0,
  "metadata": {
    "colab": {
      "provenance": [],
      "authorship_tag": "ABX9TyMM6Mm/6fnnofKuFA+9m4q7",
      "include_colab_link": true
    },
    "kernelspec": {
      "name": "python3",
      "display_name": "Python 3"
    },
    "language_info": {
      "name": "python"
    }
  },
  "cells": [
    {
      "cell_type": "markdown",
      "metadata": {
        "id": "view-in-github",
        "colab_type": "text"
      },
      "source": [
        "<a href=\"https://colab.research.google.com/github/mangleshpatidar/DO101-apps/blob/master/SMAI_Ass1_Q3c1.ipynb\" target=\"_parent\"><img src=\"https://colab.research.google.com/assets/colab-badge.svg\" alt=\"Open In Colab\"/></a>"
      ]
    },
    {
      "cell_type": "code",
      "source": [
        "import pandas as pd\n",
        "import numpy as np\n",
        "from sklearn.model_selection import train_test_split\n",
        "from sklearn.metrics import mean_squared_error, r2_score"
      ],
      "metadata": {
        "id": "EI-VA33l8Fhd"
      },
      "execution_count": 1,
      "outputs": []
    },
    {
      "cell_type": "code",
      "source": [
        "data = pd.read_csv('shark_attacks.csv')\n",
        "print(data)\n",
        "X = data[['Year', 'Month', 'Temperature', 'IceCreamSales']].values\n",
        "y = data['SharkAttacks'].values"
      ],
      "metadata": {
        "id": "txaFy_lA8H3b",
        "colab": {
          "base_uri": "https://localhost:8080/"
        },
        "outputId": "37af2504-98e2-4039-c280-ffdf5bf24c73"
      },
      "execution_count": 17,
      "outputs": [
        {
          "output_type": "stream",
          "name": "stdout",
          "text": [
            "    Year  Month  SharkAttacks  Temperature  IceCreamSales\n",
            "0   2008      1            25    11.900000             76\n",
            "1   2008      2            28    15.200000             79\n",
            "2   2008      3            32    17.200000             91\n",
            "3   2008      4            35    18.500000             95\n",
            "4   2008      5            38    19.400000            103\n",
            "..   ...    ...           ...          ...            ...\n",
            "79  2014      8            36    23.744268            101\n",
            "80  2014      9            42    23.585229             78\n",
            "81  2014     10            50    17.719383             94\n",
            "82  2014     11            27    16.472557             72\n",
            "83  2014     12            32    14.686391             68\n",
            "\n",
            "[84 rows x 5 columns]\n"
          ]
        }
      ]
    },
    {
      "cell_type": "code",
      "source": [
        "class MLR:\n",
        "  def __init__(self):\n",
        "    self.coef = None\n",
        "    self.intercept=None\n",
        "  def fit(self,X_train,y_train):\n",
        "    X_train = np.insert(X_train,0,1,axis=1)\n",
        "\n",
        "    betas=np.linalg.inv(np.dot(X_train.T,X_train)).dot(X_train.T).dot(y_train)\n",
        "    self.intercept = betas[0]\n",
        "    self.coef =betas[1:]\n",
        "\n",
        "  def predict(self,X_test):\n",
        "    y_pred = np.dot(X_test,self.coef) + self.intercept\n",
        "    return y_pred"
      ],
      "metadata": {
        "id": "bKT2916U8Ige"
      },
      "execution_count": 3,
      "outputs": []
    },
    {
      "cell_type": "code",
      "source": [
        "X_train, X_test, y_train, y_test = train_test_split(X, y, test_size=0.2, random_state=42)"
      ],
      "metadata": {
        "id": "n3_T91LA8JWy"
      },
      "execution_count": 4,
      "outputs": []
    },
    {
      "cell_type": "code",
      "source": [
        "mlr = MLR()\n",
        "mlr.fit(X_train, y_train)\n",
        "y_pred = mlr.predict(X_test)"
      ],
      "metadata": {
        "id": "7PhxAqds8KGN"
      },
      "execution_count": 5,
      "outputs": []
    },
    {
      "cell_type": "code",
      "source": [],
      "metadata": {
        "id": "_v7vhIeZd_fg"
      },
      "execution_count": null,
      "outputs": []
    },
    {
      "cell_type": "code",
      "source": [
        "#including ICECREAM\n",
        "\n",
        "r2 = r2_score(y_test, y_pred)\n",
        "\n",
        "mse = mean_squared_error(y_test, y_pred)\n",
        "\n",
        "print(\"R^2 Score:\", r2)\n",
        "print(\"Mean Squared Error:\", mse)"
      ],
      "metadata": {
        "colab": {
          "base_uri": "https://localhost:8080/"
        },
        "id": "RKxj-HO_eF58",
        "outputId": "d52315de-4fd4-43e3-b439-0238f1980077"
      },
      "execution_count": 12,
      "outputs": [
        {
          "output_type": "stream",
          "name": "stdout",
          "text": [
            "R^2 Score: 0.5000374807627369\n",
            "Mean Squared Error: 37.675376276640534\n"
          ]
        }
      ]
    },
    {
      "cell_type": "code",
      "source": [
        "#Excluding ICECREAM\n",
        "\n",
        "X1 =data[['Year', 'Month', 'Temperature']].values\n",
        "y = data['SharkAttacks'].values\n",
        "X_train1, X_test1, y_train1, y_test1 = train_test_split(X1, y, test_size=0.2, random_state=42)\n",
        "mlr1 = MLR()\n",
        "mlr1.fit(X_train1, y_train1)\n",
        "y_pred1 = mlr1.predict(X_test1)"
      ],
      "metadata": {
        "id": "g69IvDPa8yFW"
      },
      "execution_count": 14,
      "outputs": []
    },
    {
      "cell_type": "code",
      "source": [
        "#Excluding ICECREAM\n",
        "r21 = r2_score(y_test1, y_pred1)\n",
        "\n",
        "mse1 = mean_squared_error(y_test1, y_pred1)\n",
        "\n",
        "print(\"R^2 Score:\", r21)\n",
        "print(\"Mean Squared Error:\", mse1)"
      ],
      "metadata": {
        "colab": {
          "base_uri": "https://localhost:8080/"
        },
        "id": "gvbGjgL4egAg",
        "outputId": "afd90f12-d408-486c-9d2c-f36adbe579ff"
      },
      "execution_count": 15,
      "outputs": [
        {
          "output_type": "stream",
          "name": "stdout",
          "text": [
            "R^2 Score: 0.4243172447149657\n",
            "Mean Squared Error: 43.38138077715389\n"
          ]
        }
      ]
    },
    {
      "cell_type": "code",
      "source": [],
      "metadata": {
        "id": "y73pBm_JepMV"
      },
      "execution_count": null,
      "outputs": []
    },
    {
      "cell_type": "markdown",
      "source": [],
      "metadata": {
        "id": "l4L8f3CldcGQ"
      }
    }
  ]
}