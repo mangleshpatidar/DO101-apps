{
  "cells": [
    {
      "cell_type": "markdown",
      "metadata": {
        "id": "view-in-github",
        "colab_type": "text"
      },
      "source": [
        "<a href=\"https://colab.research.google.com/github/mangleshpatidar/DO101-apps/blob/master/MLPonMNISTDataset.ipynb\" target=\"_parent\"><img src=\"https://colab.research.google.com/assets/colab-badge.svg\" alt=\"Open In Colab\"/></a>"
      ]
    },
    {
      "cell_type": "markdown",
      "metadata": {
        "id": "lvpf93Fv9Hlk"
      },
      "source": [
        "# SMAI Assignment - 2\n",
        "\n",
        "## Question 4: Multi-layer Perceptrons\n",
        "\n",
        "### Digit Classification\n",
        "\n",
        "In this question, you will perform digit classification using MLP. You can use the MLPClassifier from sklearn. Train and two test sets have been provided [here](https://drive.google.com/drive/folders/1OUVrOMp2jSSBDJSqvEyXDFTrhiyZnqit?usp=sharing). Report the accuracy and any other interesting observations."
      ]
    },
    {
      "cell_type": "code",
      "execution_count": null,
      "metadata": {
        "id": "G-MpagLl-YJp"
      },
      "outputs": [],
      "source": [
        "\n",
        "import numpy as np\n",
        "import h5py\n",
        "from sklearn.neural_network import MLPClassifier\n",
        "from sklearn.preprocessing import StandardScaler\n",
        "from sklearn.metrics import accuracy_score\n",
        "\n",
        "from sklearn.model_selection import GridSearchCV"
      ]
    },
    {
      "cell_type": "code",
      "execution_count": null,
      "metadata": {
        "id": "cHAbz92352gz"
      },
      "outputs": [],
      "source": [
        "filename = \"/content/training_3digits.hdf5\"\n",
        "train = h5py.File(filename,'r')\n",
        "train_images = np.array(train['images'])\n",
        "train_digits = np.array(train['digits'])\n",
        "train.close()"
      ]
    },
    {
      "cell_type": "code",
      "execution_count": null,
      "metadata": {
        "id": "5MLBdrs65woF"
      },
      "outputs": [],
      "source": [
        "filename = \"/content/testing_3digits_part1.hdf5\"\n",
        "test1 = h5py.File(filename,'r')\n",
        "test_images_1 = np.array(test1['images'])\n",
        "test_digits_1 = np.array(test1['digits'])\n",
        "test1.close()"
      ]
    },
    {
      "cell_type": "code",
      "execution_count": null,
      "metadata": {
        "id": "w8cYRTiD-R1e"
      },
      "outputs": [],
      "source": [
        "filename = \"/content/testing_3digits_part2.hdf5\"\n",
        "test2 = h5py.File(filename,'r')\n",
        "test_images_2 = np.array(test2['images'])\n",
        "test_digits_2 = np.array(test2['digits'])\n",
        "test2.close()"
      ]
    },
    {
      "cell_type": "code",
      "source": [
        "#Not Normalized dataset\n",
        "train_images = train_images.reshape((train_images.shape[0], -1))\n",
        "test_images_1 = test_images_1.reshape((test_images_1.shape[0], -1))\n",
        "test_images_2 = test_images_2.reshape((test_images_2.shape[0], -1))\n",
        "\n",
        "\n",
        "mlp = MLPClassifier(hidden_layer_sizes=(100,), max_iter=500, random_state=42)\n",
        "\n",
        "mlp.fit(train_images, train_digits)\n",
        "\n",
        "pred_1 = mlp.predict(test_images_1)\n",
        "pred_2 = mlp.predict(test_images_2)\n",
        "\n",
        "accuracy_1 = accuracy_score(test_digits_1, pred_1)\n",
        "accuracy_2 = accuracy_score(test_digits_2, pred_2)\n",
        "\n",
        "print(\"Accuracy on test set 1:\", accuracy_1)\n",
        "print(\"Accuracy on test set 2:\", accuracy_2)"
      ],
      "metadata": {
        "colab": {
          "base_uri": "https://localhost:8080/"
        },
        "id": "w-_vAv3-p-CR",
        "outputId": "45af5ddb-f95f-4118-c971-ab8c8c309e31"
      },
      "execution_count": null,
      "outputs": [
        {
          "output_type": "stream",
          "name": "stdout",
          "text": [
            "Accuracy on test set 1: 1.0\n",
            "Accuracy on test set 2: 0.0\n"
          ]
        }
      ]
    },
    {
      "cell_type": "code",
      "source": [
        "#Normalized Dataset\n",
        "train_images_reshaped = train_images.reshape(train_images.shape[0], -1)\n",
        "test_images_1_reshaped = test_images_1.reshape(test_images_1.shape[0], -1)\n",
        "test_images_2_reshaped = test_images_2.reshape(test_images_2.shape[0], -1)\n",
        "\n",
        "scaler = StandardScaler()\n",
        "X_train = scaler.fit_transform(train_images_reshaped)\n",
        "X_test_1 = scaler.transform(test_images_1_reshaped)\n",
        "X_test_2 = scaler.transform(test_images_2_reshaped)\n",
        "\n",
        "\n",
        "mlp = MLPClassifier(hidden_layer_sizes=(100,50,25,), max_iter=1000,random_state=42, alpha=1e-4,\n",
        "                   solver='sgd', learning_rate_init=0.01)\n",
        "mlp.fit(X_train, train_digits)\n",
        "\n",
        "predictions_1 = mlp.predict(X_test_1)\n",
        "accuracy_1 = accuracy_score(test_digits_1, predictions_1)\n",
        "print(\"Accuracy on Test Set 1:\", accuracy_1)\n",
        "\n",
        "predictions_2 = mlp.predict(X_test_2)\n",
        "accuracy_2 = accuracy_score(test_digits_2, predictions_2)\n",
        "print(\"Accuracy on Test Set 2:\", accuracy_2)\n",
        "\n"
      ],
      "metadata": {
        "id": "zEtqzhbs640J",
        "colab": {
          "base_uri": "https://localhost:8080/"
        },
        "outputId": "1cc17744-3e70-4701-b4e6-7a61c0402976"
      },
      "execution_count": null,
      "outputs": [
        {
          "output_type": "stream",
          "name": "stdout",
          "text": [
            "Accuracy on Test Set 1: 0.9996822370511599\n",
            "Accuracy on Test Set 2: 0.32507149666348906\n"
          ]
        }
      ]
    },
    {
      "cell_type": "code",
      "source": [
        "#Normalized Dataset with HyperTunning\n",
        "train_images_reshaped = train_images.reshape(train_images.shape[0], -1)\n",
        "test_images_1_reshaped = test_images_1.reshape(test_images_1.shape[0], -1)\n",
        "test_images_2_reshaped = test_images_2.reshape(test_images_2.shape[0], -1)\n",
        "\n",
        "scaler = StandardScaler()\n",
        "X_train = scaler.fit_transform(train_images_reshaped)\n",
        "X_test_1 = scaler.transform(test_images_1_reshaped)\n",
        "X_test_2 = scaler.transform(test_images_2_reshaped)\n",
        "\n",
        "\n",
        "param_grid = {\n",
        "    'hidden_layer_sizes': [(100,), (100,50,),(100, 50, 25)],\n",
        "    'max_iter': [300,500,1000],\n",
        "    'alpha': [1e-4, 1e-5],\n",
        "    'learning_rate_init': [0.01, 0.001]\n",
        "}\n",
        "mlp = MLPClassifier(random_state=42, solver='sgd')\n",
        "\n",
        "\n",
        "grid_search = GridSearchCV(mlp, param_grid, cv=3, scoring='accuracy', verbose=2, n_jobs=-1)\n",
        "grid_search.fit(X_train, train_digits)\n",
        "\n",
        "\n",
        "print(\"Best parameters found by GridSearchCV:\")\n",
        "print(grid_search.best_params_)\n",
        "\n",
        "\n",
        "best_model_1 = grid_search.best_estimator_\n",
        "predictions_1 = best_model_1.predict(X_test_1)\n",
        "accuracy_1 = accuracy_score(test_digits_1, predictions_1)\n",
        "print(\"Accuracy on Test Set 1:\", accuracy_1)\n",
        "\n",
        "\n",
        "best_model_2 = grid_search.best_estimator_\n",
        "predictions_2 = best_model_2.predict(X_test_2)\n",
        "accuracy_2 = accuracy_score(test_digits_2, predictions_2)\n",
        "print(\"Accuracy on Test Set 2:\", accuracy_2)"
      ],
      "metadata": {
        "id": "_sgwdO19y7ua",
        "colab": {
          "base_uri": "https://localhost:8080/"
        },
        "outputId": "cf8f6f9d-6dac-458b-b5c6-ca1846d95e0e"
      },
      "execution_count": null,
      "outputs": [
        {
          "output_type": "stream",
          "name": "stdout",
          "text": [
            "Fitting 3 folds for each of 16 candidates, totalling 48 fits\n",
            "Best parameters found by GridSearchCV:\n",
            "{'alpha': 0.0001, 'hidden_layer_sizes': (100,), 'learning_rate_init': 0.01, 'max_iter': 500}\n",
            "Accuracy on Test Set 1: 1.0\n",
            "Accuracy on Test Set 2: 0.3174451858913251\n"
          ]
        }
      ]
    },
    {
      "cell_type": "code",
      "source": [],
      "metadata": {
        "id": "ab8x6R22y7wt"
      },
      "execution_count": null,
      "outputs": []
    },
    {
      "cell_type": "code",
      "source": [
        "#Normalized Dataset with HyperTunning\n",
        "train_images_reshaped = train_images.reshape(train_images.shape[0], -1)\n",
        "test_images_1_reshaped = test_images_1.reshape(test_images_1.shape[0], -1)\n",
        "test_images_2_reshaped = test_images_2.reshape(test_images_2.shape[0], -1)\n",
        "scaler = StandardScaler()\n",
        "X_train = scaler.fit_transform(train_images_reshaped)\n",
        "X_test_1 = scaler.transform(test_images_1_reshaped)\n",
        "X_test_2 = scaler.transform(test_images_2_reshaped)\n",
        "param_grid = {\n",
        "    'hidden_layer_sizes': [(100,), (100,50,),(100, 50, 25)],\n",
        "    'activation': ['relu', 'tanh'],\n",
        "    'solver': ['adam', 'sgd'],\n",
        "\n",
        "    'learning_rate_init': [0.01, 0.001],\n",
        "    'max_iter': [500, 1000]\n",
        "}\n",
        "\n",
        "mlp = MLPClassifier(random_state=42, solver='sgd')\n",
        "\n",
        "\n",
        "grid_search = GridSearchCV(mlp, param_grid, cv=3, scoring='accuracy', verbose=2, n_jobs=-1)\n",
        "grid_search.fit(X_train, train_digits)\n",
        "\n",
        "print(\"Best parameters found by GridSearchCV:\")\n",
        "print(grid_search.best_params_)\n",
        "\n",
        "\n",
        "best_model_1 = grid_search.best_estimator_\n",
        "predictions_1 = best_model_1.predict(X_test_1)\n",
        "accuracy_1 = accuracy_score(test_digits_1, predictions_1)\n",
        "print(\"Accuracy on Test Set 1:\", accuracy_1)\n",
        "\n",
        "best_model_2 = grid_search.best_estimator_\n",
        "predictions_2 = best_model_2.predict(X_test_2)\n",
        "accuracy_2 = accuracy_score(test_digits_2, predictions_2)\n",
        "print(\"Accuracy on Test Set 2:\", accuracy_2)"
      ],
      "metadata": {
        "id": "VlmgNF0Dy7zF",
        "colab": {
          "base_uri": "https://localhost:8080/"
        },
        "outputId": "1ac0dba1-c14d-4666-bd83-34ac2c590848"
      },
      "execution_count": null,
      "outputs": [
        {
          "output_type": "stream",
          "name": "stdout",
          "text": [
            "Fitting 3 folds for each of 48 candidates, totalling 144 fits\n",
            "Best parameters found by GridSearchCV:\n",
            "{'activation': 'relu', 'hidden_layer_sizes': (100,), 'learning_rate_init': 0.01, 'max_iter': 500, 'solver': 'adam'}\n",
            "Accuracy on Test Set 1: 1.0\n",
            "Accuracy on Test Set 2: 0.3279313632030505\n"
          ]
        }
      ]
    },
    {
      "cell_type": "code",
      "source": [
        "#Report and Observation\n",
        "#Not Normalize dataset\n",
        "# Accuracy on Test Set 1: 100.0%\n",
        "# Accuracy on Test Set 2: 0.0%\n",
        "\n",
        "#Normalize the data first\n",
        "# Grid Search Results:\n",
        "# Best Parameters Found by GridSearchCV:\n",
        "# 'activation': 'relu'\n",
        "# 'hidden_layer_sizes': (100,)\n",
        "# 'learning_rate_init': 0.01\n",
        "# 'max_iter': 500\n",
        "# 'solver': 'adam'\n",
        "# Test Set Performance:\n",
        "#model 1 & model 2 performance\n",
        "# Accuracy on Test Set 1: 100.0%\n",
        "# Accuracy on Test Set 2: 32.79%\n",
        "#after hyper tunning"
      ],
      "metadata": {
        "id": "Fenur2Doy71l"
      },
      "execution_count": null,
      "outputs": []
    },
    {
      "cell_type": "code",
      "source": [
        "#observation\n",
        "# #test set 1\n",
        "# in which the dataset digit is colorful background is white\n",
        "# #test set 2\n",
        "# digit white and background colorful so not able to perform better\n",
        "#The best-performing model had a single hidden layer with 100 neurons, ReLU activation function, 'adam' solver, and a learning rate of 0.01.\n",
        "#The chosen hyperparameters reflect a preference for simpler models with fewer hidden layers and neurons, indicating that complex architectures may not be necessary for this task."
      ],
      "metadata": {
        "id": "O_QNV6VTy732"
      },
      "execution_count": null,
      "outputs": []
    }
  ],
  "metadata": {
    "colab": {
      "provenance": [],
      "include_colab_link": true
    },
    "kernelspec": {
      "display_name": "Python 3",
      "name": "python3"
    },
    "language_info": {
      "name": "python"
    }
  },
  "nbformat": 4,
  "nbformat_minor": 0
}