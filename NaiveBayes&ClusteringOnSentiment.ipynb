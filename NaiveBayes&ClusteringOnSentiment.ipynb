{
  "cells": [
    {
      "cell_type": "markdown",
      "metadata": {
        "id": "view-in-github",
        "colab_type": "text"
      },
      "source": [
        "<a href=\"https://colab.research.google.com/github/mangleshpatidar/DO101-apps/blob/master/NaiveBayes%26ClusteringOnSentiment.ipynb\" target=\"_parent\"><img src=\"https://colab.research.google.com/assets/colab-badge.svg\" alt=\"Open In Colab\"/></a>"
      ]
    },
    {
      "cell_type": "markdown",
      "metadata": {
        "id": "blv6XBI5GxO9"
      },
      "source": [
        "# SMAI Assignment - 2\n",
        "\n",
        "## Question 1: Naive Bayes and Clustering\n",
        "\n",
        "### Part 1: Naive Bayes\n",
        "\n",
        "[Files](https://drive.google.com/drive/folders/1OUVrOMp2jSSBDJSqvEyXDFTrhiyZnqit?usp=sharing)\n",
        "\n",
        "You will be performing Sentiment Analysis on a product review dataset with reviews from customers and star rating belonging to four classes (1,2,4,5). You can use sklearn for this question. Your tasks are as follows:\n",
        "\n",
        "1.   Clean the text by removing punctations and preprocess them using techniques such as stop word removal, stemming etc. You can explore anything!\n",
        "1.  Create BoW features using the word counts. You can choose the words that form the features such that the performance is optimised. Use the train-test split provided in `train_test_index.pickle` and report any interesting observations based on metrics such as accurarcy, precision, recall and f1 score (You can use Classification report in sklearn).\n",
        "1. Repeat Task 2 with TfIdf features."
      ]
    },
    {
      "cell_type": "code",
      "source": [
        "import pandas as pd\n",
        "import pickle\n",
        "from sklearn.feature_extraction.text import CountVectorizer\n",
        "from sklearn.model_selection import train_test_split\n",
        "from sklearn.feature_extraction.text import TfidfVectorizer\n",
        "\n",
        "from sklearn.naive_bayes import MultinomialNB\n",
        "from sklearn.metrics import classification_report\n",
        "import string\n",
        "from nltk.corpus import stopwords\n",
        "from nltk.stem import PorterStemmer\n",
        "import nltk\n",
        "nltk.download('stopwords')"
      ],
      "metadata": {
        "colab": {
          "base_uri": "https://localhost:8080/"
        },
        "id": "01WmrM4S8G8n",
        "outputId": "853b71f5-209f-4b40-a441-ded6ef557ba7"
      },
      "execution_count": null,
      "outputs": [
        {
          "output_type": "stream",
          "name": "stderr",
          "text": [
            "[nltk_data] Downloading package stopwords to /root/nltk_data...\n",
            "[nltk_data]   Unzipping corpora/stopwords.zip.\n"
          ]
        },
        {
          "output_type": "execute_result",
          "data": {
            "text/plain": [
              "True"
            ]
          },
          "metadata": {},
          "execution_count": 5
        }
      ]
    },
    {
      "cell_type": "code",
      "execution_count": null,
      "metadata": {
        "id": "U0nNsliRUjqd"
      },
      "outputs": [],
      "source": [
        "\n",
        "with open('train_test_index.pickle', 'rb') as handle:\n",
        "    train_test_index_dict = pickle.load(handle)"
      ]
    },
    {
      "cell_type": "code",
      "execution_count": null,
      "metadata": {
        "id": "86GXlinlUz8b",
        "colab": {
          "base_uri": "https://localhost:8080/",
          "height": 363
        },
        "outputId": "a81ed683-e889-4db7-fecb-1a70dfa5a88a"
      },
      "outputs": [
        {
          "output_type": "execute_result",
          "data": {
            "text/plain": [
              "                                                text  stars  sentiment\n",
              "0  Total bill for this horrible service? Over $8G...    1.0          0\n",
              "1  Went in for a lunch. Steak sandwich was delici...    5.0          1\n",
              "2  This place has gone down hill.  Clearly they h...    1.0          0\n",
              "3  Walked in around 4 on a Friday afternoon, we s...    1.0          0\n",
              "4  Michael from Red Carpet VIP is amazing ! I rea...    4.0          1\n",
              "5  You can't really find anything wrong with this...    5.0          1\n",
              "6  Great lunch today. Staff was very helpful in a...    4.0          1\n",
              "7  We've been a huge Slim's fan since they opened...    5.0          1\n",
              "8  Our family LOVES the food here. Quick, friendl...    5.0          1\n",
              "9  The food is always good and the prices are rea...    4.0          1"
            ],
            "text/html": [
              "\n",
              "  <div id=\"df-94ee4046-007b-4a04-a44b-54a9ea2cda4a\" class=\"colab-df-container\">\n",
              "    <div>\n",
              "<style scoped>\n",
              "    .dataframe tbody tr th:only-of-type {\n",
              "        vertical-align: middle;\n",
              "    }\n",
              "\n",
              "    .dataframe tbody tr th {\n",
              "        vertical-align: top;\n",
              "    }\n",
              "\n",
              "    .dataframe thead th {\n",
              "        text-align: right;\n",
              "    }\n",
              "</style>\n",
              "<table border=\"1\" class=\"dataframe\">\n",
              "  <thead>\n",
              "    <tr style=\"text-align: right;\">\n",
              "      <th></th>\n",
              "      <th>text</th>\n",
              "      <th>stars</th>\n",
              "      <th>sentiment</th>\n",
              "    </tr>\n",
              "  </thead>\n",
              "  <tbody>\n",
              "    <tr>\n",
              "      <th>0</th>\n",
              "      <td>Total bill for this horrible service? Over $8G...</td>\n",
              "      <td>1.0</td>\n",
              "      <td>0</td>\n",
              "    </tr>\n",
              "    <tr>\n",
              "      <th>1</th>\n",
              "      <td>Went in for a lunch. Steak sandwich was delici...</td>\n",
              "      <td>5.0</td>\n",
              "      <td>1</td>\n",
              "    </tr>\n",
              "    <tr>\n",
              "      <th>2</th>\n",
              "      <td>This place has gone down hill.  Clearly they h...</td>\n",
              "      <td>1.0</td>\n",
              "      <td>0</td>\n",
              "    </tr>\n",
              "    <tr>\n",
              "      <th>3</th>\n",
              "      <td>Walked in around 4 on a Friday afternoon, we s...</td>\n",
              "      <td>1.0</td>\n",
              "      <td>0</td>\n",
              "    </tr>\n",
              "    <tr>\n",
              "      <th>4</th>\n",
              "      <td>Michael from Red Carpet VIP is amazing ! I rea...</td>\n",
              "      <td>4.0</td>\n",
              "      <td>1</td>\n",
              "    </tr>\n",
              "    <tr>\n",
              "      <th>5</th>\n",
              "      <td>You can't really find anything wrong with this...</td>\n",
              "      <td>5.0</td>\n",
              "      <td>1</td>\n",
              "    </tr>\n",
              "    <tr>\n",
              "      <th>6</th>\n",
              "      <td>Great lunch today. Staff was very helpful in a...</td>\n",
              "      <td>4.0</td>\n",
              "      <td>1</td>\n",
              "    </tr>\n",
              "    <tr>\n",
              "      <th>7</th>\n",
              "      <td>We've been a huge Slim's fan since they opened...</td>\n",
              "      <td>5.0</td>\n",
              "      <td>1</td>\n",
              "    </tr>\n",
              "    <tr>\n",
              "      <th>8</th>\n",
              "      <td>Our family LOVES the food here. Quick, friendl...</td>\n",
              "      <td>5.0</td>\n",
              "      <td>1</td>\n",
              "    </tr>\n",
              "    <tr>\n",
              "      <th>9</th>\n",
              "      <td>The food is always good and the prices are rea...</td>\n",
              "      <td>4.0</td>\n",
              "      <td>1</td>\n",
              "    </tr>\n",
              "  </tbody>\n",
              "</table>\n",
              "</div>\n",
              "    <div class=\"colab-df-buttons\">\n",
              "\n",
              "  <div class=\"colab-df-container\">\n",
              "    <button class=\"colab-df-convert\" onclick=\"convertToInteractive('df-94ee4046-007b-4a04-a44b-54a9ea2cda4a')\"\n",
              "            title=\"Convert this dataframe to an interactive table.\"\n",
              "            style=\"display:none;\">\n",
              "\n",
              "  <svg xmlns=\"http://www.w3.org/2000/svg\" height=\"24px\" viewBox=\"0 -960 960 960\">\n",
              "    <path d=\"M120-120v-720h720v720H120Zm60-500h600v-160H180v160Zm220 220h160v-160H400v160Zm0 220h160v-160H400v160ZM180-400h160v-160H180v160Zm440 0h160v-160H620v160ZM180-180h160v-160H180v160Zm440 0h160v-160H620v160Z\"/>\n",
              "  </svg>\n",
              "    </button>\n",
              "\n",
              "  <style>\n",
              "    .colab-df-container {\n",
              "      display:flex;\n",
              "      gap: 12px;\n",
              "    }\n",
              "\n",
              "    .colab-df-convert {\n",
              "      background-color: #E8F0FE;\n",
              "      border: none;\n",
              "      border-radius: 50%;\n",
              "      cursor: pointer;\n",
              "      display: none;\n",
              "      fill: #1967D2;\n",
              "      height: 32px;\n",
              "      padding: 0 0 0 0;\n",
              "      width: 32px;\n",
              "    }\n",
              "\n",
              "    .colab-df-convert:hover {\n",
              "      background-color: #E2EBFA;\n",
              "      box-shadow: 0px 1px 2px rgba(60, 64, 67, 0.3), 0px 1px 3px 1px rgba(60, 64, 67, 0.15);\n",
              "      fill: #174EA6;\n",
              "    }\n",
              "\n",
              "    .colab-df-buttons div {\n",
              "      margin-bottom: 4px;\n",
              "    }\n",
              "\n",
              "    [theme=dark] .colab-df-convert {\n",
              "      background-color: #3B4455;\n",
              "      fill: #D2E3FC;\n",
              "    }\n",
              "\n",
              "    [theme=dark] .colab-df-convert:hover {\n",
              "      background-color: #434B5C;\n",
              "      box-shadow: 0px 1px 3px 1px rgba(0, 0, 0, 0.15);\n",
              "      filter: drop-shadow(0px 1px 2px rgba(0, 0, 0, 0.3));\n",
              "      fill: #FFFFFF;\n",
              "    }\n",
              "  </style>\n",
              "\n",
              "    <script>\n",
              "      const buttonEl =\n",
              "        document.querySelector('#df-94ee4046-007b-4a04-a44b-54a9ea2cda4a button.colab-df-convert');\n",
              "      buttonEl.style.display =\n",
              "        google.colab.kernel.accessAllowed ? 'block' : 'none';\n",
              "\n",
              "      async function convertToInteractive(key) {\n",
              "        const element = document.querySelector('#df-94ee4046-007b-4a04-a44b-54a9ea2cda4a');\n",
              "        const dataTable =\n",
              "          await google.colab.kernel.invokeFunction('convertToInteractive',\n",
              "                                                    [key], {});\n",
              "        if (!dataTable) return;\n",
              "\n",
              "        const docLinkHtml = 'Like what you see? Visit the ' +\n",
              "          '<a target=\"_blank\" href=https://colab.research.google.com/notebooks/data_table.ipynb>data table notebook</a>'\n",
              "          + ' to learn more about interactive tables.';\n",
              "        element.innerHTML = '';\n",
              "        dataTable['output_type'] = 'display_data';\n",
              "        await google.colab.output.renderOutput(dataTable, element);\n",
              "        const docLink = document.createElement('div');\n",
              "        docLink.innerHTML = docLinkHtml;\n",
              "        element.appendChild(docLink);\n",
              "      }\n",
              "    </script>\n",
              "  </div>\n",
              "\n",
              "\n",
              "<div id=\"df-25ea7fe4-2aa8-4698-bc75-1c35bd4225d7\">\n",
              "  <button class=\"colab-df-quickchart\" onclick=\"quickchart('df-25ea7fe4-2aa8-4698-bc75-1c35bd4225d7')\"\n",
              "            title=\"Suggest charts\"\n",
              "            style=\"display:none;\">\n",
              "\n",
              "<svg xmlns=\"http://www.w3.org/2000/svg\" height=\"24px\"viewBox=\"0 0 24 24\"\n",
              "     width=\"24px\">\n",
              "    <g>\n",
              "        <path d=\"M19 3H5c-1.1 0-2 .9-2 2v14c0 1.1.9 2 2 2h14c1.1 0 2-.9 2-2V5c0-1.1-.9-2-2-2zM9 17H7v-7h2v7zm4 0h-2V7h2v10zm4 0h-2v-4h2v4z\"/>\n",
              "    </g>\n",
              "</svg>\n",
              "  </button>\n",
              "\n",
              "<style>\n",
              "  .colab-df-quickchart {\n",
              "      --bg-color: #E8F0FE;\n",
              "      --fill-color: #1967D2;\n",
              "      --hover-bg-color: #E2EBFA;\n",
              "      --hover-fill-color: #174EA6;\n",
              "      --disabled-fill-color: #AAA;\n",
              "      --disabled-bg-color: #DDD;\n",
              "  }\n",
              "\n",
              "  [theme=dark] .colab-df-quickchart {\n",
              "      --bg-color: #3B4455;\n",
              "      --fill-color: #D2E3FC;\n",
              "      --hover-bg-color: #434B5C;\n",
              "      --hover-fill-color: #FFFFFF;\n",
              "      --disabled-bg-color: #3B4455;\n",
              "      --disabled-fill-color: #666;\n",
              "  }\n",
              "\n",
              "  .colab-df-quickchart {\n",
              "    background-color: var(--bg-color);\n",
              "    border: none;\n",
              "    border-radius: 50%;\n",
              "    cursor: pointer;\n",
              "    display: none;\n",
              "    fill: var(--fill-color);\n",
              "    height: 32px;\n",
              "    padding: 0;\n",
              "    width: 32px;\n",
              "  }\n",
              "\n",
              "  .colab-df-quickchart:hover {\n",
              "    background-color: var(--hover-bg-color);\n",
              "    box-shadow: 0 1px 2px rgba(60, 64, 67, 0.3), 0 1px 3px 1px rgba(60, 64, 67, 0.15);\n",
              "    fill: var(--button-hover-fill-color);\n",
              "  }\n",
              "\n",
              "  .colab-df-quickchart-complete:disabled,\n",
              "  .colab-df-quickchart-complete:disabled:hover {\n",
              "    background-color: var(--disabled-bg-color);\n",
              "    fill: var(--disabled-fill-color);\n",
              "    box-shadow: none;\n",
              "  }\n",
              "\n",
              "  .colab-df-spinner {\n",
              "    border: 2px solid var(--fill-color);\n",
              "    border-color: transparent;\n",
              "    border-bottom-color: var(--fill-color);\n",
              "    animation:\n",
              "      spin 1s steps(1) infinite;\n",
              "  }\n",
              "\n",
              "  @keyframes spin {\n",
              "    0% {\n",
              "      border-color: transparent;\n",
              "      border-bottom-color: var(--fill-color);\n",
              "      border-left-color: var(--fill-color);\n",
              "    }\n",
              "    20% {\n",
              "      border-color: transparent;\n",
              "      border-left-color: var(--fill-color);\n",
              "      border-top-color: var(--fill-color);\n",
              "    }\n",
              "    30% {\n",
              "      border-color: transparent;\n",
              "      border-left-color: var(--fill-color);\n",
              "      border-top-color: var(--fill-color);\n",
              "      border-right-color: var(--fill-color);\n",
              "    }\n",
              "    40% {\n",
              "      border-color: transparent;\n",
              "      border-right-color: var(--fill-color);\n",
              "      border-top-color: var(--fill-color);\n",
              "    }\n",
              "    60% {\n",
              "      border-color: transparent;\n",
              "      border-right-color: var(--fill-color);\n",
              "    }\n",
              "    80% {\n",
              "      border-color: transparent;\n",
              "      border-right-color: var(--fill-color);\n",
              "      border-bottom-color: var(--fill-color);\n",
              "    }\n",
              "    90% {\n",
              "      border-color: transparent;\n",
              "      border-bottom-color: var(--fill-color);\n",
              "    }\n",
              "  }\n",
              "</style>\n",
              "\n",
              "  <script>\n",
              "    async function quickchart(key) {\n",
              "      const quickchartButtonEl =\n",
              "        document.querySelector('#' + key + ' button');\n",
              "      quickchartButtonEl.disabled = true;  // To prevent multiple clicks.\n",
              "      quickchartButtonEl.classList.add('colab-df-spinner');\n",
              "      try {\n",
              "        const charts = await google.colab.kernel.invokeFunction(\n",
              "            'suggestCharts', [key], {});\n",
              "      } catch (error) {\n",
              "        console.error('Error during call to suggestCharts:', error);\n",
              "      }\n",
              "      quickchartButtonEl.classList.remove('colab-df-spinner');\n",
              "      quickchartButtonEl.classList.add('colab-df-quickchart-complete');\n",
              "    }\n",
              "    (() => {\n",
              "      let quickchartButtonEl =\n",
              "        document.querySelector('#df-25ea7fe4-2aa8-4698-bc75-1c35bd4225d7 button');\n",
              "      quickchartButtonEl.style.display =\n",
              "        google.colab.kernel.accessAllowed ? 'block' : 'none';\n",
              "    })();\n",
              "  </script>\n",
              "</div>\n",
              "\n",
              "    </div>\n",
              "  </div>\n"
            ],
            "application/vnd.google.colaboratory.intrinsic+json": {
              "type": "dataframe",
              "variable_name": "data",
              "summary": "{\n  \"name\": \"data\",\n  \"rows\": 26661,\n  \"fields\": [\n    {\n      \"column\": \"text\",\n      \"properties\": {\n        \"dtype\": \"string\",\n        \"num_unique_values\": 26652,\n        \"samples\": [\n          \"this place is absolutely amazing. (good) italian vegan food is hard to find and this is the place to go. i had the veggie balls and the vegan baked ziti and added mushrooms. every bite was amazing. good for sharing bc the portions are HUGE. I've never been able to finish anything from here in one sitting.\",\n          \"Decent unassuming sports bar with good grub and good beer. Many TVs and a full bar. Service was as good as it gets. This place is owned by a nice young couple from Minnesota.\",\n          \"The best shop to be very nice clean auto shop very friendly and family owned and operated highly recommend for your car service needs at very honest prices clean work you guys are the best!!!!!!!!\"\n        ],\n        \"semantic_type\": \"\",\n        \"description\": \"\"\n      }\n    },\n    {\n      \"column\": \"stars\",\n      \"properties\": {\n        \"dtype\": \"number\",\n        \"std\": 1.420209841029186,\n        \"min\": 1.0,\n        \"max\": 5.0,\n        \"num_unique_values\": 4,\n        \"samples\": [\n          5.0,\n          2.0,\n          1.0\n        ],\n        \"semantic_type\": \"\",\n        \"description\": \"\"\n      }\n    },\n    {\n      \"column\": \"sentiment\",\n      \"properties\": {\n        \"dtype\": \"number\",\n        \"std\": 0,\n        \"min\": 0,\n        \"max\": 1,\n        \"num_unique_values\": 2,\n        \"samples\": [\n          1,\n          0\n        ],\n        \"semantic_type\": \"\",\n        \"description\": \"\"\n      }\n    }\n  ]\n}"
            }
          },
          "metadata": {},
          "execution_count": 10
        }
      ],
      "source": [
        "import pandas as pd\n",
        "\n",
        "data = pd.read_csv('product_reviews.csv')\n",
        "data.head(10)"
      ]
    },
    {
      "cell_type": "code",
      "source": [
        "# Define preprocessing function\n",
        "def preprocess_text(text):\n",
        "    # Remove punctuation\n",
        "    text = ''.join([char for char in text if char not in string.punctuation])\n",
        "    # Convert to lowercase\n",
        "    text = text.lower()\n",
        "    # Remove stopwords\n",
        "    stop_words = set(stopwords.words('english'))\n",
        "    text = ' '.join([word for word in text.split() if word not in stop_words])\n",
        "    # Stemming\n",
        "    stemmer = PorterStemmer()\n",
        "    text = ' '.join([stemmer.stem(word) for word in text.split()])\n",
        "    return text"
      ],
      "metadata": {
        "id": "2fVsyLFJ9a1f"
      },
      "execution_count": null,
      "outputs": []
    },
    {
      "cell_type": "code",
      "source": [
        "# Apply preprocessing to the 'review' column\n",
        "data['text'] = data['text'].apply(preprocess_text)\n",
        "print(data['text'])"
      ],
      "metadata": {
        "colab": {
          "base_uri": "https://localhost:8080/"
        },
        "id": "6i3mYSxo9f8d",
        "outputId": "6f3f9727-a8ed-42e4-89be-683b2718e968"
      },
      "execution_count": null,
      "outputs": [
        {
          "output_type": "stream",
          "name": "stdout",
          "text": [
            "0        total bill horribl servic 8g crook actual nerv...\n",
            "1        went lunch steak sandwich delici caesar salad ...\n",
            "2        place gone hill clearli cut back staff food qu...\n",
            "3        walk around 4 friday afternoon sat tabl bar wa...\n",
            "4        michael red carpet vip amaz reach need help pl...\n",
            "                               ...                        \n",
            "26656    save money dont go place stuck went walk entir...\n",
            "26657    husband thought would give sushi anoth tri sto...\n",
            "26658    petit café sympa peu de place assis bonn bouff...\n",
            "26659    absolut delici food full amaz flavor owner qui...\n",
            "26660    best place sport event servic locat amaz great...\n",
            "Name: text, Length: 26661, dtype: object\n"
          ]
        }
      ]
    },
    {
      "cell_type": "code",
      "source": [
        "# Create bag-of-words features using CountVectorizer\n",
        "vectorizer = CountVectorizer()\n",
        "X = vectorizer.fit_transform(data['text'])\n",
        "y = data['stars']\n",
        "print(train_test_index_dict.keys())\n"
      ],
      "metadata": {
        "colab": {
          "base_uri": "https://localhost:8080/"
        },
        "id": "1uXxbjci9sI4",
        "outputId": "ff33a837-44f9-462d-881f-cdabbe162256"
      },
      "execution_count": null,
      "outputs": [
        {
          "output_type": "stream",
          "name": "stdout",
          "text": [
            "dict_keys(['train_index', 'test_index'])\n"
          ]
        }
      ]
    },
    {
      "cell_type": "code",
      "source": [
        "# Split the data into train and test sets using provided indices\n",
        "X_train = X[train_test_index_dict['train_index']]\n",
        "X_test = X[train_test_index_dict['test_index']]\n",
        "y_train = y[train_test_index_dict['train_index']]\n",
        "y_test = y[train_test_index_dict['test_index']]"
      ],
      "metadata": {
        "id": "zrjXwplH96-X"
      },
      "execution_count": null,
      "outputs": []
    },
    {
      "cell_type": "code",
      "source": [
        "# Train the Naive Bayes classifier\n",
        "clf = MultinomialNB()\n",
        "clf.fit(X_train, y_train)\n",
        "\n",
        "# Make predictions on the test set\n",
        "y_pred = clf.predict(X_test)"
      ],
      "metadata": {
        "id": "HGP-AWuO-tYu"
      },
      "execution_count": null,
      "outputs": []
    },
    {
      "cell_type": "code",
      "source": [
        "# Evaluate the classifier\n",
        "print(classification_report(y_test, y_pred))"
      ],
      "metadata": {
        "colab": {
          "base_uri": "https://localhost:8080/"
        },
        "id": "0-3XHsWh-yi8",
        "outputId": "def0333d-6588-4390-ea14-b3fcf9cc55c7"
      },
      "execution_count": null,
      "outputs": [
        {
          "output_type": "stream",
          "name": "stdout",
          "text": [
            "              precision    recall  f1-score   support\n",
            "\n",
            "         1.0       0.73      0.78      0.75      1149\n",
            "         2.0       0.35      0.05      0.09       587\n",
            "         4.0       0.47      0.54      0.50      1981\n",
            "         5.0       0.80      0.83      0.81      5082\n",
            "\n",
            "    accuracy                           0.70      8799\n",
            "   macro avg       0.59      0.55      0.54      8799\n",
            "weighted avg       0.69      0.70      0.69      8799\n",
            "\n"
          ]
        }
      ]
    },
    {
      "cell_type": "code",
      "source": [
        "# Create TF-IDF features using TfidfVectorizer\n",
        "vectorizer = TfidfVectorizer()\n",
        "X1 = vectorizer.fit_transform(data['text'])\n",
        "y1 = data['stars']"
      ],
      "metadata": {
        "id": "ZHfTHNnY_YzT"
      },
      "execution_count": null,
      "outputs": []
    },
    {
      "cell_type": "code",
      "source": [
        "# Split the data into train and test sets using provided indices\n",
        "X_train1 = X1[train_test_index_dict['train_index']]\n",
        "X_test1 = X1[train_test_index_dict['test_index']]\n",
        "y_train1 = y1[train_test_index_dict['train_index']]\n",
        "y_test1 = y1[train_test_index_dict['test_index']]"
      ],
      "metadata": {
        "id": "o36YMIAfAowa"
      },
      "execution_count": null,
      "outputs": []
    },
    {
      "cell_type": "code",
      "source": [
        "# Train the Naive Bayes classifier\n",
        "clf_tfidf = MultinomialNB()\n",
        "clf_tfidf.fit(X_train1, y_train1)\n",
        "\n",
        "# Make predictions on the test set\n",
        "y_pred1 = clf_tfidf.predict(X_test1)"
      ],
      "metadata": {
        "id": "3GBO3PnN_o0x"
      },
      "execution_count": null,
      "outputs": []
    },
    {
      "cell_type": "code",
      "source": [
        "# Evaluate the classifier\n",
        "print(classification_report(y_test1, y_pred1))"
      ],
      "metadata": {
        "colab": {
          "base_uri": "https://localhost:8080/"
        },
        "id": "8X6BFLhz_3d0",
        "outputId": "3e03b48a-7a4d-40ff-84cf-fd44e60e9f79"
      },
      "execution_count": null,
      "outputs": [
        {
          "output_type": "stream",
          "name": "stdout",
          "text": [
            "              precision    recall  f1-score   support\n",
            "\n",
            "         1.0       0.91      0.03      0.05      1149\n",
            "         2.0       0.50      0.00      0.00       587\n",
            "         4.0       0.51      0.01      0.02      1981\n",
            "         5.0       0.58      1.00      0.73      5082\n",
            "\n",
            "    accuracy                           0.58      8799\n",
            "   macro avg       0.63      0.26      0.20      8799\n",
            "weighted avg       0.60      0.58      0.44      8799\n",
            "\n"
          ]
        }
      ]
    },
    {
      "cell_type": "markdown",
      "metadata": {
        "id": "T8GYzpkuUcs6"
      },
      "source": [
        "### Part 2: Clustering\n",
        "\n",
        "You will be performing kmeans clustering on the same product reviews dataset from Part 1. In this question, instead of statistically computing features, you will use the embeddings obtained from a neural sentiment analysis model (huggingface: siebert/sentiment-roberta-large-english).\n",
        "\n",
        "You can use sklearn for this question. Your tasks are as follows:\n",
        "\n",
        "\n",
        "1. Perform kmeans clustering using sklearn. Try various values for number of clusters (k) and plot the elbow curve. For each value of k, plot WCSS (Within-Cluster Sum of Square). WCSS is the sum of the squared distance between each point and the centroid in a cluster.\n",
        "1. Perform task 1 with cluster initialisation methods [k-means++, forgy (\"random\" in sklearn)].\n",
        "1. In this case, since the ground truth labels (star rating) are available we can evaluate the clustering using metrics like purity, nmi and rand score. Implement these metrics from scratch and evaluate the clustering. [Reference](https://nlp.stanford.edu/IR-book/html/htmledition/evaluation-of-clustering-1.html)"
      ]
    },
    {
      "cell_type": "code",
      "source": [
        "import gzip\n",
        "import numpy as np\n",
        "from sklearn.cluster import KMeans\n",
        "import matplotlib.pyplot as plt\n",
        "\n",
        "# Load the embeddings\n",
        "f = gzip.GzipFile('roberta_embeds.npy.gz', \"r\")\n",
        "embeds = np.load(f)\n",
        "print(embeds.shape)"
      ],
      "metadata": {
        "colab": {
          "base_uri": "https://localhost:8080/"
        },
        "id": "tpURTehQKr2a",
        "outputId": "24d14f36-0d4a-4fac-f789-fdd334c59948"
      },
      "execution_count": null,
      "outputs": [
        {
          "output_type": "stream",
          "name": "stdout",
          "text": [
            "(26661, 1024)\n"
          ]
        }
      ]
    },
    {
      "cell_type": "code",
      "source": [
        "import pandas as pd\n",
        "\n",
        "data = pd.read_csv('product_reviews.csv')\n",
        "data.head(10)\n",
        "# Separate the predictor variable (X) and the target variable (y)\n",
        "# Extract input data and ground truth labels\n",
        "X = data['text']  # Input data\n",
        "true_labels = data['stars']  # Ground truth labels"
      ],
      "metadata": {
        "id": "prft-yun-8An"
      },
      "execution_count": null,
      "outputs": []
    },
    {
      "cell_type": "code",
      "source": [
        "\n",
        "with open('train_test_index.pickle', 'rb') as handle:\n",
        "    train_test_index_dict = pickle.load(handle)"
      ],
      "metadata": {
        "id": "TWlGqDZg_B6V"
      },
      "execution_count": null,
      "outputs": []
    },
    {
      "cell_type": "code",
      "source": [
        "def calculate_wcss(X, centroids, labels):\n",
        "    \"\"\"\n",
        "    Calculate the Within-Cluster Sum of Squares (WCSS) using Euclidean distance.\n",
        "\n",
        "    Parameters:\n",
        "    - X: Data points (numpy array).\n",
        "    - centroids: Centroids of clusters (numpy array).\n",
        "    - labels: Labels of data points indicating cluster assignments (numpy array).\n",
        "\n",
        "    Returns:\n",
        "    - wcss: Within-Cluster Sum of Squares.\n",
        "    \"\"\"\n",
        "    wcss = 0\n",
        "    for i in range(len(centroids)):\n",
        "        cluster_points = X[labels == i]\n",
        "        centroid = centroids[i]\n",
        "        wcss += np.sum((cluster_points - centroid) ** 2)\n",
        "    return wcss"
      ],
      "metadata": {
        "id": "HgNgA_Wtnp5T"
      },
      "execution_count": null,
      "outputs": []
    },
    {
      "cell_type": "code",
      "source": [
        "k_values = range(2, 15)\n",
        "\n",
        "wcss_kmeans_pp = []\n",
        "wcss_random = []\n",
        "for k in k_values:\n",
        "    kmeans_pp = KMeans(n_clusters=k, init='k-means++', random_state=42, n_init=10)\n",
        "    kmeans_pp.fit(embeds)\n",
        "    wcss_kmeans_pp.append(kmeans_pp.inertia_)\n",
        "    #wcss_kmeans_pp.append(calculate_wcss(embeds, kmeans_pp.cluster_centers_, kmeans_pp.labels_))\n",
        "\n",
        "    # KMeans with random initialization\n",
        "    kmeans_random = KMeans(n_clusters=k, init='random', random_state=42, n_init=10)\n",
        "    kmeans_random.fit(embeds)\n",
        "    wcss_random.append(kmeans_random.inertia_)\n",
        "    #wcss_random.append(calculate_wcss(embeds, kmeans_random.cluster_centers_, kmeans_random.labels_))\n",
        "\n",
        "\n"
      ],
      "metadata": {
        "id": "ZOYlLjt3AIzD"
      },
      "execution_count": null,
      "outputs": []
    },
    {
      "cell_type": "code",
      "source": [
        "import matplotlib.pyplot as plt\n",
        "\n",
        "# Plot the elbow curve for KMeans++ initialization\n",
        "plt.figure(figsize=(10, 5))\n",
        "plt.plot(k_values, wcss_kmeans_pp, marker='o', linestyle='-', color='b', label='k-means++')\n",
        "plt.title('Elbow Curve for KMeans Clustering (k-means++ Initialization)')\n",
        "plt.xlabel('Number of Clusters (k)')\n",
        "plt.ylabel('Within-Cluster Sum of Squares (WCSS)')\n",
        "plt.legend()\n",
        "plt.grid(True)\n",
        "plt.show()\n",
        "\n"
      ],
      "metadata": {
        "colab": {
          "base_uri": "https://localhost:8080/",
          "height": 487
        },
        "id": "_zIOcTR3oETO",
        "outputId": "b41909fa-7c9c-4fd0-d207-275e606b059c"
      },
      "execution_count": null,
      "outputs": [
        {
          "output_type": "display_data",
          "data": {
            "text/plain": [
              "<Figure size 1000x500 with 1 Axes>"
            ],
            "image/png": "[encoded data removed]"
          },
          "metadata": {}
        }
      ]
    },
    {
      "cell_type": "code",
      "source": [
        "# Plot the elbow curve for random initialization\n",
        "plt.figure(figsize=(10, 5))\n",
        "plt.plot(k_values, wcss_random, marker='x', linestyle='--', color='r', label='random')\n",
        "plt.title('Elbow Curve for KMeans Clustering (Random Initialization)')\n",
        "plt.xlabel('Number of Clusters (k)')\n",
        "plt.ylabel('Within-Cluster Sum of Squares (WCSS)')\n",
        "plt.legend()\n",
        "plt.grid(True)\n",
        "plt.show()"
      ],
      "metadata": {
        "colab": {
          "base_uri": "https://localhost:8080/",
          "height": 487
        },
        "id": "kCiCniCSr-Yd",
        "outputId": "70a24a06-a502-4b2a-94c0-2b721d8b05b9"
      },
      "execution_count": null,
      "outputs": [
        {
          "output_type": "display_data",
          "data": {
            "text/plain": [
              "<Figure size 1000x500 with 1 Axes>"
            ],
            "image/png": "[encoded data removed]"
          },
          "metadata": {}
        }
      ]
    },
    {
      "cell_type": "code",
      "source": [
        "import numpy as np\n",
        "from collections import Counter\n",
        "from math import log\n",
        "\n",
        "def compute_purity(true_labels, predicted_labels):\n",
        "    contingency_matrix = np.zeros((len(np.unique(true_labels)), len(np.unique(predicted_labels))))\n",
        "\n",
        "    for i, true_label in enumerate(np.unique(true_labels)):\n",
        "        for j, predicted_label in enumerate(np.unique(predicted_labels)):\n",
        "            contingency_matrix[i, j] = np.sum((true_labels == true_label) & (predicted_labels == predicted_label))\n",
        "\n",
        "    return np.sum(np.amax(contingency_matrix, axis=0)) / len(true_labels)\n",
        "\n",
        "def compute_nmi(true_labels, predicted_labels):\n",
        "    contingency_matrix = np.zeros((len(np.unique(true_labels)), len(np.unique(predicted_labels))))\n",
        "\n",
        "    for i, true_label in enumerate(np.unique(true_labels)):\n",
        "        for j, predicted_label in enumerate(np.unique(predicted_labels)):\n",
        "            contingency_matrix[i, j] = np.sum((true_labels == true_label) & (predicted_labels == predicted_label))\n",
        "\n",
        "\n",
        "    p_true = np.sum(contingency_matrix, axis=1) / np.sum(contingency_matrix)\n",
        "    p_predicted = np.sum(contingency_matrix, axis=0) / np.sum(contingency_matrix)\n",
        "\n",
        "\n",
        "    mi = 0\n",
        "    for i in range(len(np.unique(true_labels))):\n",
        "        for j in range(len(np.unique(predicted_labels))):\n",
        "            if contingency_matrix[i, j] != 0:\n",
        "                mi += (contingency_matrix[i, j] / np.sum(contingency_matrix)) * log((contingency_matrix[i, j] / np.sum(contingency_matrix)) / (p_true[i] * p_predicted[j]))\n",
        "\n",
        "    h_true = - np.sum(p_true * np.log(p_true))\n",
        "    h_predicted = - np.sum(p_predicted * np.log(p_predicted))\n",
        "\n",
        "\n",
        "    nmi = mi / np.sqrt(h_true * h_predicted)\n",
        "\n",
        "    return nmi\n",
        "\n",
        "def compute_ari(true_labels, predicted_labels):\n",
        "    contingency_matrix = np.zeros((len(np.unique(true_labels)), len(np.unique(predicted_labels))))\n",
        "\n",
        "    for i, true_label in enumerate(np.unique(true_labels)):\n",
        "        for j, predicted_label in enumerate(np.unique(predicted_labels)):\n",
        "            contingency_matrix[i, j] = np.sum((true_labels == true_label) & (predicted_labels == predicted_label))\n",
        "\n",
        "    a = np.sum(np.square(np.sum(contingency_matrix, axis=1)))\n",
        "    b = np.sum(np.square(np.sum(contingency_matrix, axis=0)))\n",
        "    c = np.sum(np.square(contingency_matrix))\n",
        "    d = np.sum(contingency_matrix) ** 2\n",
        "\n",
        "    expected_index = (a * b) / d\n",
        "    maximum_index = (a + b) / 2\n",
        "\n",
        "    return (c - expected_index) / (maximum_index - expected_index)\n",
        "\n",
        "kmeans_pp = KMeans(n_clusters=4, init='k-means++', random_state=42, n_init=10)\n",
        "predicted_labels_pp = kmeans_pp.fit_predict(embeds)\n",
        "\n",
        "\n",
        "purity_pp = compute_purity(true_labels, predicted_labels_pp)\n",
        "nmi_pp = compute_nmi(true_labels, predicted_labels_pp)\n",
        "ari_pp = compute_ari(true_labels, predicted_labels_pp)\n",
        "\n",
        "print(\"Evaluation Metrics for KMeans with k-means++ initialization:\")\n",
        "print(\"Purity:\", purity_pp)\n",
        "print(\"NMI:\", nmi_pp)\n",
        "print(\"Rand Score:\", ari_pp)\n",
        "\n",
        "kmeans_random = KMeans(n_clusters=4, init='random', random_state=42, n_init=10)\n",
        "predicted_labels_random = kmeans_random.fit_predict(embeds)\n",
        "\n",
        "\n",
        "purity_random = compute_purity(true_labels, predicted_labels_random)\n",
        "nmi_random = compute_nmi(true_labels, predicted_labels_random)\n",
        "ari_random = compute_ari(true_labels, predicted_labels_random)\n",
        "\n",
        "print(\"\\nEvaluation Metrics for KMeans with random initialization:\")\n",
        "print(\"Purity:\", purity_random)\n",
        "print(\"NMI:\", nmi_random)\n",
        "print(\"Rand Score:\", ari_random)\n"
      ],
      "metadata": {
        "colab": {
          "base_uri": "https://localhost:8080/"
        },
        "id": "EJiuhTW2UCUJ",
        "outputId": "1b069925-e02a-42f8-f6ed-fa3a20c6bc3c"
      },
      "execution_count": null,
      "outputs": [
        {
          "output_type": "stream",
          "name": "stdout",
          "text": [
            "Evaluation Metrics for KMeans with k-means++ initialization:\n",
            "Purity: 0.7132140579873223\n",
            "NMI: 0.5358546011063247\n",
            "Rand Score: 0.4815465548243637\n",
            "\n",
            "Evaluation Metrics for KMeans with random initialization:\n",
            "Purity: 0.7132140579873223\n",
            "NMI: 0.5358546011063245\n",
            "Rand Score: 0.4815465548243637\n"
          ]
        }
      ]
    }
  ],
  "metadata": {
    "colab": {
      "provenance": [],
      "include_colab_link": true
    },
    "kernelspec": {
      "display_name": "Python 3",
      "name": "python3"
    },
    "language_info": {
      "name": "python"
    }
  },
  "nbformat": 4,
  "nbformat_minor": 0
}